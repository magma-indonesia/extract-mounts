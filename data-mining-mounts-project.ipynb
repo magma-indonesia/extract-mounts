{
 "cells": [
  {
   "cell_type": "markdown",
   "id": "11122605-6241-4024-8884-d0e0ec6834c3",
   "metadata": {},
   "source": [
    "# Data mining untuk Thermal dan SO2 dari web http://mounts-project.com\n",
    "---"
   ]
  },
  {
   "cell_type": "markdown",
   "id": "4f5bf0af-8865-45ad-aaee-bd97cd7210fa",
   "metadata": {},
   "source": [
    "## Import Modules python yang dibutuhkan\n",
    "Adapun module yang digunakan antara lain:\n",
    "1. Module `requests` digunakan untuk membuka web http://mounts-project.com\n",
    "2. Module `json` digunakan untuk melakukan formatting data JSON\n",
    "3. Module `re` digunakan untuk melakukan ekstraksi data JSON dari variable JavaScript menggunakan Regex\n",
    "4. Module `pandas` digunakan untuk melakukan formatting data ke DataFrame dan converting ke Excel atau CSV\n",
    "5. Module `os` digunakan untuk mendapatkan directory dan file\n",
    "6. Module `JSON` digunakan untuk display data JSON"
   ]
  },
  {
   "cell_type": "code",
   "execution_count": 1,
   "id": "b9480316-ce59-4dc8-b7bf-50a339aae071",
   "metadata": {},
   "outputs": [],
   "source": [
    "import requests\n",
    "import json\n",
    "import re\n",
    "import pandas as pd\n",
    "import os\n",
    "from IPython.display import JSON\n",
    "from datetime import datetime"
   ]
  },
  {
   "cell_type": "markdown",
   "id": "3853e2d4-1f8b-4763-be37-a479e98a4dfa",
   "metadata": {},
   "source": [
    "## Inisiasi Variable yang Dibutuhkan\n",
    "Inisiasi variable untuk web http://mounts-project.com"
   ]
  },
  {
   "cell_type": "code",
   "execution_count": 2,
   "id": "6f83c71d-3814-4167-b241-8976135f9582",
   "metadata": {},
   "outputs": [],
   "source": [
    "mounts_url = 'http://mounts-project.com/timeseries/'"
   ]
  },
  {
   "cell_type": "markdown",
   "id": "34fa45de-4e53-4a41-9658-6b26c88da130",
   "metadata": {},
   "source": [
    "Inisiasi variable untuk `output_directory` tempat hasil ekstrak data disimpan"
   ]
  },
  {
   "cell_type": "code",
   "execution_count": 3,
   "id": "45f9aff2-9b0a-415e-9abc-fa29fb504a77",
   "metadata": {},
   "outputs": [
    {
     "data": {
      "text/plain": [
       "'E:\\\\Projects\\\\extract-mounts\\\\output'"
      ]
     },
     "execution_count": 3,
     "metadata": {},
     "output_type": "execute_result"
    }
   ],
   "source": [
    "output_directory = os.path.join(os.getcwd(), 'output')\n",
    "\n",
    "output_directory"
   ]
  },
  {
   "cell_type": "code",
   "execution_count": 4,
   "id": "87950f4c-a829-4227-80a7-6dd44810c56b",
   "metadata": {},
   "outputs": [],
   "source": [
    "if (not os.path.exists(output_directory)):\n",
    "    os.mkdir(output_directory)"
   ]
  },
  {
   "cell_type": "markdown",
   "id": "9aab296d-33be-4236-8425-08a6d04a53e4",
   "metadata": {},
   "source": [
    "Variable `volcanoes` merupakan variable kode gunung api berdasarkan ID smithsonian number (https://volcano.si.edu/).  \n",
    "Untuk mendapatkan data beberapa gunung api, masukkan kode gunung api dalam bentuk `list`"
   ]
  },
  {
   "cell_type": "code",
   "execution_count": 5,
   "id": "a59bc199-1acf-4518-bbb3-87977f02ffdc",
   "metadata": {},
   "outputs": [],
   "source": [
    "volcanoes = [\n",
    "    {\n",
    "        \"name\" : \"Anak Krakatau\",\n",
    "        \"code\" : 262000,\n",
    "    },\n",
    "    {\n",
    "        \"name\" : \"Kerinci\",\n",
    "        \"code\" : 261170,\n",
    "    },\n",
    "    {\n",
    "        \"name\" : \"Karangetang\",\n",
    "        \"code\" : 267020,\n",
    "    },\n",
    "    {\n",
    "        \"name\" : \"Dukono\",\n",
    "        \"code\" : 268010,\n",
    "    },\n",
    "    {\n",
    "        \"name\" : \"Ili Lewotolok\",\n",
    "        \"code\" : 264230,\n",
    "    },\n",
    "    {\n",
    "        \"name\" : \"Ibu\",\n",
    "        \"code\" : 268030,\n",
    "    },\n",
    "    {\n",
    "        \"name\" : \"Semeru\",\n",
    "        \"code\" : 263300,\n",
    "    },\n",
    "    {\n",
    "        \"name\" : \"Raung\",\n",
    "        \"code\" : 263340,\n",
    "    },\n",
    "    {\n",
    "        \"name\" : \"Ijen\",\n",
    "        \"code\" : 263350,\n",
    "    }\n",
    "]"
   ]
  },
  {
   "cell_type": "code",
   "execution_count": 6,
   "id": "f4983e1b-1388-4339-b1f0-dab2ee0b5fe5",
   "metadata": {},
   "outputs": [
    {
     "name": "stdout",
     "output_type": "stream",
     "text": [
      "Anak Krakatau 262000\n",
      "Kerinci 261170\n",
      "Karangetang 267020\n",
      "Dukono 268010\n",
      "Ili Lewotolok 264230\n",
      "Ibu 268030\n",
      "Semeru 263300\n",
      "Raung 263340\n",
      "Ijen 263350\n"
     ]
    }
   ],
   "source": [
    "for index, volcano in enumerate(volcanoes):\n",
    "    print(volcano['name'], volcano['code'])"
   ]
  },
  {
   "cell_type": "markdown",
   "id": "c447bfc7-f02a-4e0c-bc46-6141d9f28a05",
   "metadata": {},
   "source": [
    "Menginisiasi list kosong untuk menyimpan DataFrame hasil ekstraksi data. List ini akan berisi kumpulan data Thermal dan SO2 dari berbagai gunung api"
   ]
  },
  {
   "cell_type": "code",
   "execution_count": 7,
   "id": "29ebf858-9d92-4752-9b99-4509fbc7ead6",
   "metadata": {},
   "outputs": [],
   "source": [
    "dataframes = {}"
   ]
  },
  {
   "cell_type": "markdown",
   "id": "09dfacef-01d1-4cbf-911b-da3816b7bfdd",
   "metadata": {},
   "source": [
    "---\n",
    "## Inisiasi Fungsi-fungsi yang digunakan untuk extract, transformasi, dan export data\n",
    "Fungsi yang digunakan untuk mengeskstrak variable JSON Thermal dan SO2 dari JavaScript web Mounts Project. Variabel ini tersimpan dengan nama `var_graph`"
   ]
  },
  {
   "cell_type": "code",
   "execution_count": 8,
   "id": "089a2fb2-609e-4e03-bf69-cb666f2a0d33",
   "metadata": {},
   "outputs": [],
   "source": [
    "def get_json_from_javascript(response):\n",
    "    var_graph = re.search(r\"(?:^|\\s|;)var\\s+graph\\s*=\\s*([^']+})\", response.text)\n",
    "    string_graph = var_graph.group(1)\n",
    "    json_graph = json.loads(string_graph)\n",
    "    return json_graph"
   ]
  },
  {
   "cell_type": "markdown",
   "id": "041b0465-705e-468b-b064-0b43df8e5f5e",
   "metadata": {},
   "source": [
    "Hasil dari ekstraksi JSON pada fungsi `get_json_from_javascript` selanjutnya digunakan untuk extraksi nilai **SO2** dan **Thermal**"
   ]
  },
  {
   "cell_type": "code",
   "execution_count": 9,
   "id": "a65d9057-9180-4e72-9e5c-a0b3f8d85e71",
   "metadata": {},
   "outputs": [],
   "source": [
    "def get_so2_values(graph_json):\n",
    "    so2_values = {\n",
    "        'Date time': graph_json['data'][2]['x'],\n",
    "        'Value': graph_json['data'][2]['y'],\n",
    "    }\n",
    "    so2_df = pd.DataFrame.from_dict(so2_values)\n",
    "    so2_df['Type'] = 'SO2'\n",
    "    return so2_df"
   ]
  },
  {
   "cell_type": "code",
   "execution_count": 10,
   "id": "c74b4f22-e9ae-44c2-825c-b2831343fc4a",
   "metadata": {},
   "outputs": [],
   "source": [
    "def get_thermal_values(graph_json):\n",
    "    thermal_values = {\n",
    "        'Date time': graph_json['data'][0]['x'],\n",
    "        'Value': graph_json['data'][0]['y'],\n",
    "    }\n",
    "    thermal_df = pd.DataFrame.from_dict(thermal_values)\n",
    "    thermal_df['Type'] = 'Thermal'\n",
    "    return thermal_df"
   ]
  },
  {
   "cell_type": "markdown",
   "id": "ac0785a8-01e0-473c-9b10-a8ab4bba2259",
   "metadata": {},
   "source": [
    "Splitting kolom `Date Time` ke `Date` dan `Time`"
   ]
  },
  {
   "cell_type": "code",
   "execution_count": 11,
   "id": "b48c1dab-1a13-4334-bd2e-7ffa8eb0a757",
   "metadata": {},
   "outputs": [],
   "source": [
    "def convert_to_date(date_time):\n",
    "    return date_time.strftime(\"%Y-%m-%d\")"
   ]
  },
  {
   "cell_type": "code",
   "execution_count": 12,
   "id": "5024c65c-c643-418e-951e-2dec9806a304",
   "metadata": {},
   "outputs": [],
   "source": [
    "def convert_to_time(date_time):\n",
    "    return date_time.strftime(\"%H:%M:%S\")"
   ]
  },
  {
   "cell_type": "markdown",
   "id": "c4df7e5c-d6a2-4692-95b8-fb47dfc46f70",
   "metadata": {},
   "source": [
    "Fungsi ini digunakan untuk meng-export data hasil ekstraksi ke dalam format Excel"
   ]
  },
  {
   "cell_type": "code",
   "execution_count": 13,
   "id": "bcb0692b-d499-45df-9d0b-c2c68d6d3721",
   "metadata": {},
   "outputs": [],
   "source": [
    "def export_to_excel(filtered_df, volcano_code, volcano_name):\n",
    "    filename = '{} - {}.xlsx'.format(volcano_name, volcano_code)\n",
    "    path = os.path.join(output_directory, filename)\n",
    "    filtered_df.to_excel(path, sheet_name='Join Data')\n",
    "    return path"
   ]
  },
  {
   "cell_type": "markdown",
   "id": "71ea4b88-ae74-44c3-81fc-a045ff500a16",
   "metadata": {},
   "source": [
    "---\n",
    "## Kode Utama\n",
    "Kode utama ekstraksi data"
   ]
  },
  {
   "cell_type": "code",
   "execution_count": 20,
   "id": "be70ecf1-0827-44db-8b5b-67448c7ce04c",
   "metadata": {},
   "outputs": [
    {
     "name": "stdout",
     "output_type": "stream",
     "text": [
      "Data untuk gunung api Anak Krakatau berhasil diekstrak, dan disimpan dalam variable dataframes['Anak Krakatau']\n",
      "Data untuk gunung api Kerinci berhasil diekstrak, dan disimpan dalam variable dataframes['Kerinci']\n",
      "Data untuk gunung api Karangetang berhasil diekstrak, dan disimpan dalam variable dataframes['Karangetang']\n",
      "Data untuk gunung api Dukono berhasil diekstrak, dan disimpan dalam variable dataframes['Dukono']\n",
      "Data untuk gunung api Ili Lewotolok berhasil diekstrak, dan disimpan dalam variable dataframes['Ili Lewotolok']\n",
      "Data untuk gunung api Ibu berhasil diekstrak, dan disimpan dalam variable dataframes['Ibu']\n",
      "Data untuk gunung api Semeru berhasil diekstrak, dan disimpan dalam variable dataframes['Semeru']\n",
      "Data untuk gunung api Raung berhasil diekstrak, dan disimpan dalam variable dataframes['Raung']\n",
      "Data untuk gunung api Ijen berhasil diekstrak, dan disimpan dalam variable dataframes['Ijen']\n"
     ]
    }
   ],
   "source": [
    "df_excel = pd.DataFrame()\n",
    "\n",
    "for index, volcano in enumerate(volcanoes):\n",
    "    volcano_code = volcano['code']\n",
    "    volcano_name = volcano['name']\n",
    "    \n",
    "    # http://mounts-project.com/timeseries/262000\n",
    "    url = mounts_url+str(volcano_code) \n",
    "    \n",
    "    # Buka http://mounts-project.com/timeseries/262000\n",
    "    response = requests.get(url)\n",
    "    \n",
    "    # Get data JSON\n",
    "    graph_json = get_json_from_javascript(response)\n",
    "    \n",
    "    so2 = get_so2_values(graph_json)\n",
    "    thermal = get_thermal_values(graph_json)\n",
    "    \n",
    "    df = pd.concat([\n",
    "        so2,\n",
    "        thermal\n",
    "    ])\n",
    "    \n",
    "    df['Date time'] = pd.to_datetime(df['Date time'])\n",
    "    df['Date'] = df['Date time'].apply(convert_to_date)\n",
    "    df['Time'] = df['Date time'].apply(convert_to_time)\n",
    "    df['Code'] = volcano_code\n",
    "    df.set_index('Date time', inplace=True)\n",
    "    \n",
    "    filtered_df = df[df['Value'] > 0.1]\n",
    "    dataframes[volcano_name] = filtered_df\n",
    "    \n",
    "    df_excel = pd.concat([\n",
    "        df_excel, pd.DataFrame([{\n",
    "            \"code\" : volcano_code,\n",
    "            \"volcano_name\" : volcano_name,\n",
    "            \"filename\" : export_to_excel(filtered_df, volcano_code, volcano_name),\n",
    "            \"updated_at\" : filtered_df.index.max()\n",
    "    }])], ignore_index=True)\n",
    "    \n",
    "    print(\"Data untuk gunung api {} berhasil diekstrak, dan disimpan dalam variable dataframes['{}']\".format(volcano_name,volcano_name))"
   ]
  },
  {
   "cell_type": "code",
   "execution_count": 21,
   "id": "53eb0d48-e495-405f-bce4-a9b64ccc32d7",
   "metadata": {},
   "outputs": [
    {
     "data": {
      "text/html": [
       "<div>\n",
       "<style scoped>\n",
       "    .dataframe tbody tr th:only-of-type {\n",
       "        vertical-align: middle;\n",
       "    }\n",
       "\n",
       "    .dataframe tbody tr th {\n",
       "        vertical-align: top;\n",
       "    }\n",
       "\n",
       "    .dataframe thead th {\n",
       "        text-align: right;\n",
       "    }\n",
       "</style>\n",
       "<table border=\"1\" class=\"dataframe\">\n",
       "  <thead>\n",
       "    <tr style=\"text-align: right;\">\n",
       "      <th></th>\n",
       "      <th>code</th>\n",
       "      <th>volcano_name</th>\n",
       "      <th>filename</th>\n",
       "      <th>updated_at</th>\n",
       "    </tr>\n",
       "  </thead>\n",
       "  <tbody>\n",
       "    <tr>\n",
       "      <th>0</th>\n",
       "      <td>262000</td>\n",
       "      <td>Anak Krakatau</td>\n",
       "      <td>E:\\Projects\\extract-mounts\\output\\Anak Krakata...</td>\n",
       "      <td>2023-01-22 06:08:00</td>\n",
       "    </tr>\n",
       "    <tr>\n",
       "      <th>1</th>\n",
       "      <td>261170</td>\n",
       "      <td>Kerinci</td>\n",
       "      <td>E:\\Projects\\extract-mounts\\output\\Kerinci - 26...</td>\n",
       "      <td>2023-01-18 07:23:00</td>\n",
       "    </tr>\n",
       "    <tr>\n",
       "      <th>2</th>\n",
       "      <td>267020</td>\n",
       "      <td>Karangetang</td>\n",
       "      <td>E:\\Projects\\extract-mounts\\output\\Karangetang ...</td>\n",
       "      <td>2023-01-19 05:23:00</td>\n",
       "    </tr>\n",
       "    <tr>\n",
       "      <th>3</th>\n",
       "      <td>268010</td>\n",
       "      <td>Dukono</td>\n",
       "      <td>E:\\Projects\\extract-mounts\\output\\Dukono - 268...</td>\n",
       "      <td>2023-01-22 04:28:00</td>\n",
       "    </tr>\n",
       "    <tr>\n",
       "      <th>4</th>\n",
       "      <td>264230</td>\n",
       "      <td>Ili Lewotolok</td>\n",
       "      <td>E:\\Projects\\extract-mounts\\output\\Ili Lewotolo...</td>\n",
       "      <td>2023-01-18 02:04:39</td>\n",
       "    </tr>\n",
       "    <tr>\n",
       "      <th>5</th>\n",
       "      <td>268030</td>\n",
       "      <td>Ibu</td>\n",
       "      <td>E:\\Projects\\extract-mounts\\output\\Ibu - 268030...</td>\n",
       "      <td>2023-01-22 04:28:00</td>\n",
       "    </tr>\n",
       "    <tr>\n",
       "      <th>6</th>\n",
       "      <td>263300</td>\n",
       "      <td>Semeru</td>\n",
       "      <td>E:\\Projects\\extract-mounts\\output\\Semeru - 263...</td>\n",
       "      <td>2023-01-22 06:08:00</td>\n",
       "    </tr>\n",
       "    <tr>\n",
       "      <th>7</th>\n",
       "      <td>263340</td>\n",
       "      <td>Raung</td>\n",
       "      <td>E:\\Projects\\extract-mounts\\output\\Raung - 2633...</td>\n",
       "      <td>2023-01-23 05:48:00</td>\n",
       "    </tr>\n",
       "    <tr>\n",
       "      <th>8</th>\n",
       "      <td>263350</td>\n",
       "      <td>Ijen</td>\n",
       "      <td>E:\\Projects\\extract-mounts\\output\\Ijen - 26335...</td>\n",
       "      <td>2023-01-16 06:18:59</td>\n",
       "    </tr>\n",
       "  </tbody>\n",
       "</table>\n",
       "</div>"
      ],
      "text/plain": [
       "     code   volcano_name                                           filename  \\\n",
       "0  262000  Anak Krakatau  E:\\Projects\\extract-mounts\\output\\Anak Krakata...   \n",
       "1  261170        Kerinci  E:\\Projects\\extract-mounts\\output\\Kerinci - 26...   \n",
       "2  267020    Karangetang  E:\\Projects\\extract-mounts\\output\\Karangetang ...   \n",
       "3  268010         Dukono  E:\\Projects\\extract-mounts\\output\\Dukono - 268...   \n",
       "4  264230  Ili Lewotolok  E:\\Projects\\extract-mounts\\output\\Ili Lewotolo...   \n",
       "5  268030            Ibu  E:\\Projects\\extract-mounts\\output\\Ibu - 268030...   \n",
       "6  263300         Semeru  E:\\Projects\\extract-mounts\\output\\Semeru - 263...   \n",
       "7  263340          Raung  E:\\Projects\\extract-mounts\\output\\Raung - 2633...   \n",
       "8  263350           Ijen  E:\\Projects\\extract-mounts\\output\\Ijen - 26335...   \n",
       "\n",
       "           updated_at  \n",
       "0 2023-01-22 06:08:00  \n",
       "1 2023-01-18 07:23:00  \n",
       "2 2023-01-19 05:23:00  \n",
       "3 2023-01-22 04:28:00  \n",
       "4 2023-01-18 02:04:39  \n",
       "5 2023-01-22 04:28:00  \n",
       "6 2023-01-22 06:08:00  \n",
       "7 2023-01-23 05:48:00  \n",
       "8 2023-01-16 06:18:59  "
      ]
     },
     "execution_count": 21,
     "metadata": {},
     "output_type": "execute_result"
    }
   ],
   "source": [
    "df_excel"
   ]
  },
  {
   "cell_type": "code",
   "execution_count": 22,
   "id": "533fb188-9c21-4a80-90c9-f93f6a419f45",
   "metadata": {},
   "outputs": [],
   "source": [
    "df_excel.to_excel('output.xlsx', index=False)"
   ]
  }
 ],
 "metadata": {
  "kernelspec": {
   "display_name": "Python 3 (ipykernel)",
   "language": "python",
   "name": "python3"
  },
  "language_info": {
   "codemirror_mode": {
    "name": "ipython",
    "version": 3
   },
   "file_extension": ".py",
   "mimetype": "text/x-python",
   "name": "python",
   "nbconvert_exporter": "python",
   "pygments_lexer": "ipython3",
   "version": "3.9.12"
  }
 },
 "nbformat": 4,
 "nbformat_minor": 5
}
