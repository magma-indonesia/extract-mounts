{
 "cells": [
  {
   "cell_type": "markdown",
   "id": "4f5bf0af-8865-45ad-aaee-bd97cd7210fa",
   "metadata": {},
   "source": [
    "## Import Modules python yang dibutuhkan\n",
    "Adapun module yang digunakan antara lain:\n",
    "1. Module `requests` digunakan untuk membuka web http://mounts-project.com\n",
    "2. Module `json` digunakan untuk melakukan formatting data JSON\n",
    "3. Module `re` digunakan untuk melakukan ekstraksi data JSON dari variable JavaScript menggunakan Regex\n",
    "4. Module `pandas` digunakan untuk melakukan formatting data ke DataFrame dan converting ke Excel atau CSV\n",
    "5. Module `os` digunakan untuk mendapatkan directory dan file\n",
    "6. Module `JSON` digunakan untuk display data JSON"
   ]
  },
  {
   "cell_type": "code",
   "id": "b9480316-ce59-4dc8-b7bf-50a339aae071",
   "metadata": {
    "ExecuteTime": {
     "end_time": "2024-04-11T12:13:35.348822Z",
     "start_time": "2024-04-11T12:13:35.345626Z"
    }
   },
   "source": [
    "import requests\n",
    "import json\n",
    "import re\n",
    "import pandas as pd\n",
    "import os\n",
    "\n",
    "# To plot\n",
    "import matplotlib.pyplot as plt\n",
    "import matplotlib.dates as mdates"
   ],
   "outputs": [],
   "execution_count": 159
  },
  {
   "cell_type": "markdown",
   "id": "3853e2d4-1f8b-4763-be37-a479e98a4dfa",
   "metadata": {},
   "source": [
    "## Inisiasi Variable yang Dibutuhkan\n",
    "Inisiasi variable untuk web http://mounts-project.com"
   ]
  },
  {
   "cell_type": "code",
   "id": "6f83c71d-3814-4167-b241-8976135f9582",
   "metadata": {
    "ExecuteTime": {
     "end_time": "2024-04-11T12:13:35.426318Z",
     "start_time": "2024-04-11T12:13:35.422744Z"
    }
   },
   "source": [
    "mounts_url: str = 'http://mounts-project.com/timeseries/'\n",
    "include_anomaly: bool = False\n",
    "filter_value: float = 0.1"
   ],
   "outputs": [],
   "execution_count": 160
  },
  {
   "cell_type": "markdown",
   "id": "34fa45de-4e53-4a41-9658-6b26c88da130",
   "metadata": {},
   "source": [
    "Inisiasi variable untuk `output_directory` tempat hasil ekstrak data disimpan"
   ]
  },
  {
   "cell_type": "code",
   "id": "45f9aff2-9b0a-415e-9abc-fa29fb504a77",
   "metadata": {
    "ExecuteTime": {
     "end_time": "2024-04-11T12:13:35.436905Z",
     "start_time": "2024-04-11T12:13:35.431926Z"
    }
   },
   "source": [
    "output_directory = os.path.join(os.getcwd(), 'output')\n",
    "\n",
    "output_directory"
   ],
   "outputs": [
    {
     "data": {
      "text/plain": [
       "'D:\\\\Projects\\\\extract-mounts\\\\output'"
      ]
     },
     "execution_count": 161,
     "metadata": {},
     "output_type": "execute_result"
    }
   ],
   "execution_count": 161
  },
  {
   "cell_type": "code",
   "id": "87950f4c-a829-4227-80a7-6dd44810c56b",
   "metadata": {
    "ExecuteTime": {
     "end_time": "2024-04-11T12:13:35.452877Z",
     "start_time": "2024-04-11T12:13:35.449346Z"
    }
   },
   "source": [
    "if not os.path.exists(output_directory):\n",
    "    os.mkdir(output_directory)"
   ],
   "outputs": [],
   "execution_count": 162
  },
  {
   "cell_type": "markdown",
   "id": "9aab296d-33be-4236-8425-08a6d04a53e4",
   "metadata": {},
   "source": [
    "Variable `volcanoes` merupakan variable kode gunung api berdasarkan ID smithsonian number (https://volcano.si.edu/).  \n",
    "Untuk mendapatkan data beberapa gunung api, masukkan kode gunung api dalam bentuk `list`"
   ]
  },
  {
   "cell_type": "code",
   "id": "a59bc199-1acf-4518-bbb3-87977f02ffdc",
   "metadata": {
    "ExecuteTime": {
     "end_time": "2024-04-11T12:13:35.487954Z",
     "start_time": "2024-04-11T12:13:35.482749Z"
    }
   },
   "source": [
    "volcanoes = [\n",
    "    {\n",
    "        \"name\" : \"Lewotobi Laki-laki\",\n",
    "        \"code\" : 264180,\n",
    "    },\n",
    "    {\n",
    "        \"name\" : \"Marapi\",\n",
    "        \"code\" : 261140,\n",
    "    },\n",
    "    {\n",
    "        \"name\" : \"Anak Krakatau\",\n",
    "        \"code\" : 262000,\n",
    "    },\n",
    "    {\n",
    "        \"name\" : \"Kerinci\",\n",
    "        \"code\" : 261170,\n",
    "    },\n",
    "    {\n",
    "        \"name\" : \"Karangetang\",\n",
    "        \"code\" : 267020,\n",
    "    },\n",
    "    {\n",
    "        \"name\" : \"Dukono\",\n",
    "        \"code\" : 268010,\n",
    "    },\n",
    "    {\n",
    "        \"name\" : \"Ili Lewotolok\",\n",
    "        \"code\" : 264230,\n",
    "    },\n",
    "    {\n",
    "        \"name\" : \"Ibu\",\n",
    "        \"code\" : 268030,\n",
    "    },\n",
    "    {\n",
    "        \"name\" : \"Semeru\",\n",
    "        \"code\" : 263300,\n",
    "    },\n",
    "    {\n",
    "        \"name\" : \"Raung\",\n",
    "        \"code\" : 263340,\n",
    "    },\n",
    "    {\n",
    "        \"name\" : \"Ijen\",\n",
    "        \"code\" : 263350,\n",
    "    },\n",
    "    {\n",
    "        \"name\" : \"Slamet\",\n",
    "        \"code\" : 263180\n",
    "    }\n",
    "]"
   ],
   "outputs": [],
   "execution_count": 163
  },
  {
   "cell_type": "code",
   "id": "f4983e1b-1388-4339-b1f0-dab2ee0b5fe5",
   "metadata": {
    "ExecuteTime": {
     "end_time": "2024-04-11T12:13:35.502776Z",
     "start_time": "2024-04-11T12:13:35.498868Z"
    }
   },
   "source": [
    "for index, volcano in enumerate(volcanoes):\n",
    "    print(volcano['name'], volcano['code'])"
   ],
   "outputs": [
    {
     "name": "stdout",
     "output_type": "stream",
     "text": [
      "Lewotobi Laki-laki 264180\n",
      "Marapi 261140\n",
      "Anak Krakatau 262000\n",
      "Kerinci 261170\n",
      "Karangetang 267020\n",
      "Dukono 268010\n",
      "Ili Lewotolok 264230\n",
      "Ibu 268030\n",
      "Semeru 263300\n",
      "Raung 263340\n",
      "Ijen 263350\n",
      "Slamet 263180\n"
     ]
    }
   ],
   "execution_count": 164
  },
  {
   "cell_type": "markdown",
   "id": "c447bfc7-f02a-4e0c-bc46-6141d9f28a05",
   "metadata": {},
   "source": [
    "Menginisiasi list kosong untuk menyimpan DataFrame hasil ekstraksi data. List ini akan berisi kumpulan data Thermal dan SO2 dari berbagai gunung api"
   ]
  },
  {
   "cell_type": "code",
   "id": "29ebf858-9d92-4752-9b99-4509fbc7ead6",
   "metadata": {
    "ExecuteTime": {
     "end_time": "2024-04-11T12:13:35.514921Z",
     "start_time": "2024-04-11T12:13:35.503842Z"
    }
   },
   "source": [
    "dataframes = {}"
   ],
   "outputs": [],
   "execution_count": 165
  },
  {
   "cell_type": "markdown",
   "id": "09dfacef-01d1-4cbf-911b-da3816b7bfdd",
   "metadata": {},
   "source": [
    "---\n",
    "## Inisiasi Fungsi-fungsi yang digunakan untuk extract, transformasi, dan export data\n",
    "Fungsi yang digunakan untuk mengeskstrak variable JSON Thermal dan SO2 dari JavaScript web Mounts Project. Variabel ini tersimpan dengan nama `var_graph`"
   ]
  },
  {
   "cell_type": "code",
   "id": "089a2fb2-609e-4e03-bf69-cb666f2a0d33",
   "metadata": {
    "ExecuteTime": {
     "end_time": "2024-04-11T12:13:35.528847Z",
     "start_time": "2024-04-11T12:13:35.516024Z"
    }
   },
   "source": [
    "def get_json_from_javascript(response):\n",
    "    var_graph = re.search(r\"(?:^|\\s|;)var\\s+graph\\s*=\\s*([^']+})\", response.text)\n",
    "    string_graph = var_graph.group(1)\n",
    "    json_graph = json.loads(string_graph)\n",
    "    return json_graph"
   ],
   "outputs": [],
   "execution_count": 166
  },
  {
   "cell_type": "markdown",
   "id": "041b0465-705e-468b-b064-0b43df8e5f5e",
   "metadata": {},
   "source": [
    "Hasil dari ekstraksi JSON pada fungsi `get_json_from_javascript` selanjutnya digunakan untuk extraksi nilai **SO2** dan **Thermal**"
   ]
  },
  {
   "cell_type": "code",
   "id": "a65d9057-9180-4e72-9e5c-a0b3f8d85e71",
   "metadata": {
    "ExecuteTime": {
     "end_time": "2024-04-11T12:13:35.542390Z",
     "start_time": "2024-04-11T12:13:35.529916Z"
    }
   },
   "source": [
    "def get_so2_values(graph_json):\n",
    "    so2_values = {\n",
    "        'Date time': graph_json['data'][2]['x'],\n",
    "        'Value': graph_json['data'][2]['y'],\n",
    "        'Graph': graph_json['data'][2]['text'],\n",
    "    }\n",
    "    so2_df = pd.DataFrame.from_dict(so2_values)\n",
    "    so2_df['Type'] = 'SO2'\n",
    "    return so2_df"
   ],
   "outputs": [],
   "execution_count": 167
  },
  {
   "cell_type": "code",
   "id": "c74b4f22-e9ae-44c2-825c-b2831343fc4a",
   "metadata": {
    "ExecuteTime": {
     "end_time": "2024-04-11T12:13:35.555769Z",
     "start_time": "2024-04-11T12:13:35.543385Z"
    }
   },
   "source": [
    "def get_thermal_values(graph_json):\n",
    "    thermal_values = {\n",
    "        'Date time': graph_json['data'][0]['x'],\n",
    "        'Value': graph_json['data'][0]['y'],\n",
    "        'Graph': graph_json['data'][0]['text'],\n",
    "    }\n",
    "    thermal_df = pd.DataFrame.from_dict(thermal_values)\n",
    "    thermal_df['Type'] = 'Thermal'\n",
    "    return thermal_df"
   ],
   "outputs": [],
   "execution_count": 168
  },
  {
   "cell_type": "markdown",
   "id": "ac0785a8-01e0-473c-9b10-a8ab4bba2259",
   "metadata": {},
   "source": [
    "Splitting kolom `Date Time` ke `Date` dan `Time`"
   ]
  },
  {
   "cell_type": "code",
   "id": "b48c1dab-1a13-4334-bd2e-7ffa8eb0a757",
   "metadata": {
    "ExecuteTime": {
     "end_time": "2024-04-11T12:13:35.569455Z",
     "start_time": "2024-04-11T12:13:35.556799Z"
    }
   },
   "source": [
    "def convert_to_date(date_time):\n",
    "    return date_time.strftime(\"%Y-%m-%d\")"
   ],
   "outputs": [],
   "execution_count": 169
  },
  {
   "cell_type": "code",
   "id": "5024c65c-c643-418e-951e-2dec9806a304",
   "metadata": {
    "ExecuteTime": {
     "end_time": "2024-04-11T12:13:35.582327Z",
     "start_time": "2024-04-11T12:13:35.570583Z"
    }
   },
   "source": [
    "def convert_to_time(date_time):\n",
    "    return date_time.strftime(\"%H:%M:%S\")"
   ],
   "outputs": [],
   "execution_count": 170
  },
  {
   "cell_type": "markdown",
   "id": "c4df7e5c-d6a2-4692-95b8-fb47dfc46f70",
   "metadata": {},
   "source": [
    "Fungsi ini digunakan untuk meng-export data hasil ekstraksi ke dalam format Excel"
   ]
  },
  {
   "cell_type": "code",
   "id": "bcb0692b-d499-45df-9d0b-c2c68d6d3721",
   "metadata": {
    "ExecuteTime": {
     "end_time": "2024-04-11T12:13:35.596048Z",
     "start_time": "2024-04-11T12:13:35.583324Z"
    }
   },
   "source": [
    "def export_to_excel(filtered_df, volcano_code, volcano_name, csv_dir):\n",
    "    filename = '{} - {}'.format(volcano_name, volcano_code)\n",
    "    path_excel = os.path.join(output_directory, filename)\n",
    "    path_csv = os.path.join(csv_dir, filename)\n",
    "    filtered_df.to_csv('{}.csv'.format(path_csv))\n",
    "    filtered_df.to_excel('{}.xlsx'.format(path_excel), sheet_name='Join Data')\n",
    "    return (\n",
    "        '{}.xlsx'.format(path_excel),\n",
    "        '{}.csv'.format(path_csv)\n",
    "    )"
   ],
   "outputs": [],
   "execution_count": 171
  },
  {
   "cell_type": "markdown",
   "id": "71ea4b88-ae74-44c3-81fc-a045ff500a16",
   "metadata": {},
   "source": [
    "---\n",
    "## Kode Utama\n",
    "Kode utama ekstraksi data"
   ]
  },
  {
   "cell_type": "code",
   "id": "be70ecf1-0827-44db-8b5b-67448c7ce04c",
   "metadata": {
    "ExecuteTime": {
     "end_time": "2024-04-11T12:13:47.835318Z",
     "start_time": "2024-04-11T12:13:35.597044Z"
    }
   },
   "source": [
    "print('🏃‍ Extracting....')\n",
    "print('==================')\n",
    "for index, volcano in enumerate(volcanoes):\n",
    "    volcano_code = volcano['code']\n",
    "    volcano_name = volcano['name']\n",
    "    \n",
    "    print('🌋 Extracting {} volcano'.format(volcano_name))\n",
    "    # http://mounts-project.com/timeseries/262000\n",
    "    url = mounts_url+str(volcano_code) \n",
    "    \n",
    "    # Buka http://mounts-project.com/timeseries/262000\n",
    "    response = requests.get(url)\n",
    "    \n",
    "    # Get data JSON\n",
    "    graph_json = get_json_from_javascript(response)\n",
    "    \n",
    "    # save json\n",
    "    json_dir = os.path.join(os.getcwd(), 'json')\n",
    "    os.makedirs(json_dir, exist_ok = True)\n",
    "    json_file = os.path.join(json_dir, '{}.json'.format(volcano['code']))\n",
    "                             \n",
    "    with open(json_file, \"w\") as write_file:\n",
    "        json.dump(graph_json['data'], write_file, indent=2)\n",
    "    \n",
    "    so2 = get_so2_values(graph_json)\n",
    "    thermal = get_thermal_values(graph_json)\n",
    "    \n",
    "    df = pd.concat([\n",
    "        so2,\n",
    "        thermal\n",
    "    ])\n",
    "    \n",
    "    df['Date time'] = pd.to_datetime(df['Date time'])\n",
    "    df['Date'] = df['Date time'].apply(convert_to_date)\n",
    "    df['Time'] = df['Date time'].apply(convert_to_time)\n",
    "    df['Code'] = volcano_code\n",
    "    df['Volcano Name'] = volcano_name\n",
    "    df.set_index('Date time', inplace=True)\n",
    "    \n",
    "    if include_anomaly:\n",
    "        filter_value = 0\n",
    "    \n",
    "    filtered_df = df[df['Value'] > filter_value]\n",
    "    dataframes[volcano_name] = filtered_df\n",
    "    print('👌 {} Extracted!'.format(volcano_name))\n",
    "\n",
    "print('==================')\n",
    "print('✅ Finish!')"
   ],
   "outputs": [
    {
     "name": "stdout",
     "output_type": "stream",
     "text": [
      "🏃‍ Extracting....\n",
      "==================\n",
      "🌋 Extracting Lewotobi Laki-laki volcano\n",
      "👌 Lewotobi Laki-laki Extracted!\n",
      "🌋 Extracting Marapi volcano\n",
      "👌 Marapi Extracted!\n",
      "🌋 Extracting Anak Krakatau volcano\n",
      "👌 Anak Krakatau Extracted!\n",
      "🌋 Extracting Kerinci volcano\n",
      "👌 Kerinci Extracted!\n",
      "🌋 Extracting Karangetang volcano\n",
      "👌 Karangetang Extracted!\n",
      "🌋 Extracting Dukono volcano\n",
      "👌 Dukono Extracted!\n",
      "🌋 Extracting Ili Lewotolok volcano\n",
      "👌 Ili Lewotolok Extracted!\n",
      "🌋 Extracting Ibu volcano\n",
      "👌 Ibu Extracted!\n",
      "🌋 Extracting Semeru volcano\n",
      "👌 Semeru Extracted!\n",
      "🌋 Extracting Raung volcano\n",
      "👌 Raung Extracted!\n",
      "🌋 Extracting Ijen volcano\n",
      "👌 Ijen Extracted!\n",
      "🌋 Extracting Slamet volcano\n",
      "👌 Slamet Extracted!\n",
      "==================\n",
      "✅ Finish!\n"
     ]
    }
   ],
   "execution_count": 172
  },
  {
   "metadata": {},
   "cell_type": "markdown",
   "source": "## Saving output",
   "id": "6b5bec593cf9047b"
  },
  {
   "metadata": {
    "ExecuteTime": {
     "end_time": "2024-04-11T12:13:50.352504Z",
     "start_time": "2024-04-11T12:13:47.836425Z"
    }
   },
   "cell_type": "code",
   "source": [
    "df_csv = pd.DataFrame()\n",
    "concat_df = []\n",
    "\n",
    "csv_directory = os.path.join(output_directory, 'csv')\n",
    "os.makedirs(csv_directory, exist_ok = True)\n",
    "\n",
    "print('⌚ Saving output!')\n",
    "print('==================')\n",
    "\n",
    "for index, volcano in enumerate(volcanoes):\n",
    "    volcano_code = volcano['code']\n",
    "    volcano_name = volcano['name']\n",
    "    \n",
    "    excel_file, csv_file = export_to_excel(dataframes[volcano_name], volcano_code, volcano_name, csv_directory)\n",
    "    concat_df.append(dataframes[volcano_name])\n",
    "    \n",
    "    df_csv = pd.concat([\n",
    "        df_csv, pd.DataFrame([\n",
    "            {\n",
    "                \"code\" : volcano_code,\n",
    "                \"volcano_name\" : volcano_name,\n",
    "                \"filename\" : excel_file,\n",
    "                \"csv\": csv_file,\n",
    "                \"updated_at\" : dataframes[volcano_name].index.max()\n",
    "            }]\n",
    "    )], ignore_index=True)\n",
    "    print('💾 {} saved to: {}'.format(volcano_name, excel_file))\n",
    "\n",
    "all_volcano = os.path.join(output_directory, 'All Volcano.xlsx')\n",
    "merged = pd.concat(concat_df)\n",
    "merged.to_excel(all_volcano, sheet_name='Join Data')\n",
    "\n",
    "df_csv.to_csv('output.csv', index=False)\n",
    "\n",
    "print('💾 All Volcano saved into: {}'.format(all_volcano))\n",
    "print('==================')\n",
    "print('✅ Done!')"
   ],
   "id": "dc4afda6dc0480d8",
   "outputs": [
    {
     "name": "stdout",
     "output_type": "stream",
     "text": [
      "⌚ Saving output!\n",
      "==================\n",
      "💾 Lewotobi Laki-laki saved to: D:\\Projects\\extract-mounts\\output\\Lewotobi Laki-laki - 264180.xlsx\n",
      "💾 Marapi saved to: D:\\Projects\\extract-mounts\\output\\Marapi - 261140.xlsx\n",
      "💾 Anak Krakatau saved to: D:\\Projects\\extract-mounts\\output\\Anak Krakatau - 262000.xlsx\n",
      "💾 Kerinci saved to: D:\\Projects\\extract-mounts\\output\\Kerinci - 261170.xlsx\n",
      "💾 Karangetang saved to: D:\\Projects\\extract-mounts\\output\\Karangetang - 267020.xlsx\n",
      "💾 Dukono saved to: D:\\Projects\\extract-mounts\\output\\Dukono - 268010.xlsx\n",
      "💾 Ili Lewotolok saved to: D:\\Projects\\extract-mounts\\output\\Ili Lewotolok - 264230.xlsx\n",
      "💾 Ibu saved to: D:\\Projects\\extract-mounts\\output\\Ibu - 268030.xlsx\n",
      "💾 Semeru saved to: D:\\Projects\\extract-mounts\\output\\Semeru - 263300.xlsx\n",
      "💾 Raung saved to: D:\\Projects\\extract-mounts\\output\\Raung - 263340.xlsx\n",
      "💾 Ijen saved to: D:\\Projects\\extract-mounts\\output\\Ijen - 263350.xlsx\n",
      "💾 Slamet saved to: D:\\Projects\\extract-mounts\\output\\Slamet - 263180.xlsx\n",
      "💾 All Volcano saved into: D:\\Projects\\extract-mounts\\output\\All Volcano.xlsx\n",
      "==================\n",
      "✅ Done!\n"
     ]
    }
   ],
   "execution_count": 173
  },
  {
   "metadata": {},
   "cell_type": "markdown",
   "source": "# Plotting and save Figures",
   "id": "a917e51b8ab9ebf0"
  },
  {
   "metadata": {
    "ExecuteTime": {
     "end_time": "2024-04-11T12:13:50.391145Z",
     "start_time": "2024-04-11T12:13:50.387650Z"
    }
   },
   "cell_type": "code",
   "source": [
    "figures_directory = os.path.join(output_directory, 'figures')\n",
    "os.makedirs(figures_directory, exist_ok = True)"
   ],
   "id": "137003f6662a90e",
   "outputs": [],
   "execution_count": 177
  },
  {
   "metadata": {
    "ExecuteTime": {
     "end_time": "2024-04-11T12:13:58.164841Z",
     "start_time": "2024-04-11T12:13:50.392130Z"
    }
   },
   "cell_type": "code",
   "source": [
    "for index, row in df_csv.iterrows():\n",
    "    volcano_name = row['volcano_name']\n",
    "    csv_file = row['csv']\n",
    "    \n",
    "    df_mounts = pd.read_csv(csv_file, index_col='Date time', parse_dates=True)\n",
    "    df_thermal = df_mounts[df_mounts['Type'] == 'Thermal'].loc[:, \"Value\"]\n",
    "    df_so2 = df_mounts[df_mounts['Type'] == 'SO2'].loc[:, \"Value\"]\n",
    "    \n",
    "    labels = [\n",
    "        {\n",
    "            'name': 'SO2',\n",
    "            'y_label': '$SO_{2} mass [tons]$',\n",
    "            'df': df_so2,\n",
    "            'df_smoothed': df_so2.rolling('3d').median(),\n",
    "        },\n",
    "        {\n",
    "            'name': 'Thermal',\n",
    "            'y_label': 'Thermal anomalies [N pix]',\n",
    "            'df': df_thermal,\n",
    "            'df_smoothed': df_thermal.rolling('3d').median(),\n",
    "        }\n",
    "    ]\n",
    "    \n",
    "    fig, axs = plt.subplots(nrows=2, ncols=1, figsize=(12, 6),\n",
    "                        layout=\"constrained\", sharex=True)\n",
    "    \n",
    "    fig.suptitle(volcano_name, fontsize=14)\n",
    "    \n",
    "    for axs_index, label in enumerate(labels):\n",
    "        \n",
    "        color = 'orange' if label['name'] == 'SO2' else 'red'\n",
    "        log = False if label['df'].values.max() < 1000 else True\n",
    "        \n",
    "        axs[axs_index].bar(label['df'].index, label['df'].values,\n",
    "                           width=0.9, edgecolor=None, linewidth=0, label=label['name'], color=color)\n",
    "        \n",
    "        # axs[axs_index].scatter(label['df'].index, label['df'].values, color=color, alpha=0.6, s=10, label=label['name'])\n",
    "        # axs[axs_index].plot(label['df'].index, label['df_smoothed'].values, color=color, label=label['name'], alpha=1)\n",
    "        \n",
    "        if log:\n",
    "            axs[axs_index].set_yscale('log')\n",
    "        \n",
    "        # Plot label only for the last subplot\n",
    "        # if axs_index == 1:\n",
    "        #     axs[axs_index].set_xlabel('Date')\n",
    "        \n",
    "        axs[axs_index].set_ylabel(label['y_label'])\n",
    "            \n",
    "        axs[axs_index].tick_params(axis='both', which='major', labelsize=8)\n",
    "        axs[axs_index].xaxis.set_major_formatter(mdates.DateFormatter('%Y-%m-%d'))\n",
    "        axs[axs_index].set_xlim(label['df'].first_valid_index(), label['df'].last_valid_index())\n",
    "             \n",
    "        axs[axs_index].annotate(\n",
    "            text=label['name'],\n",
    "            xy=(0.02, 0.85),\n",
    "            xycoords='axes fraction',\n",
    "            fontsize='8',\n",
    "            bbox=dict(facecolor='white', alpha=0.5)\n",
    "        )\n",
    "        \n",
    "        # Rotate x label\n",
    "        for _label in axs[axs_index].get_xticklabels(which='major'):\n",
    "            _label.set(rotation=30, horizontalalignment='right')\n",
    "\n",
    "    figures_name = os.path.join(figures_directory, '{}.jpg'.format(volcano_name))\n",
    "    fig.savefig(figures_name)\n",
    "    \n",
    "    print('📊 Plot saved into: {}'.format(figures_name))\n",
    "    plt.close()"
   ],
   "id": "8f53237c87a8b644",
   "outputs": [
    {
     "name": "stdout",
     "output_type": "stream",
     "text": [
      "📊 Plot saved into: D:\\Projects\\extract-mounts\\output\\figures\\Lewotobi Laki-laki.jpg\n",
      "📊 Plot saved into: D:\\Projects\\extract-mounts\\output\\figures\\Marapi.jpg\n",
      "📊 Plot saved into: D:\\Projects\\extract-mounts\\output\\figures\\Anak Krakatau.jpg\n",
      "📊 Plot saved into: D:\\Projects\\extract-mounts\\output\\figures\\Kerinci.jpg\n",
      "📊 Plot saved into: D:\\Projects\\extract-mounts\\output\\figures\\Karangetang.jpg\n",
      "📊 Plot saved into: D:\\Projects\\extract-mounts\\output\\figures\\Dukono.jpg\n",
      "📊 Plot saved into: D:\\Projects\\extract-mounts\\output\\figures\\Ili Lewotolok.jpg\n",
      "📊 Plot saved into: D:\\Projects\\extract-mounts\\output\\figures\\Ibu.jpg\n",
      "📊 Plot saved into: D:\\Projects\\extract-mounts\\output\\figures\\Semeru.jpg\n",
      "📊 Plot saved into: D:\\Projects\\extract-mounts\\output\\figures\\Raung.jpg\n",
      "📊 Plot saved into: D:\\Projects\\extract-mounts\\output\\figures\\Ijen.jpg\n",
      "📊 Plot saved into: D:\\Projects\\extract-mounts\\output\\figures\\Slamet.jpg\n"
     ]
    }
   ],
   "execution_count": 178
  },
  {
   "metadata": {},
   "cell_type": "code",
   "source": "",
   "id": "95e623ac458ceabd",
   "outputs": [],
   "execution_count": null
  }
 ],
 "metadata": {
  "kernelspec": {
   "display_name": "Python 3 (ipykernel)",
   "language": "python",
   "name": "python3"
  },
  "language_info": {
   "codemirror_mode": {
    "name": "ipython",
    "version": 3
   },
   "file_extension": ".py",
   "mimetype": "text/x-python",
   "name": "python",
   "nbconvert_exporter": "python",
   "pygments_lexer": "ipython3",
   "version": "3.9.12"
  }
 },
 "nbformat": 4,
 "nbformat_minor": 5
}
