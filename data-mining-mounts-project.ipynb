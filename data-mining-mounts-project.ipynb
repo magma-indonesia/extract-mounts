{
 "cells": [
  {
   "cell_type": "markdown",
   "id": "11122605-6241-4024-8884-d0e0ec6834c3",
   "metadata": {},
   "source": [
    "# Data mining untuk Thermal dan SO2 dari web http://mounts-project.com\n",
    "---"
   ]
  },
  {
   "cell_type": "markdown",
   "id": "4f5bf0af-8865-45ad-aaee-bd97cd7210fa",
   "metadata": {},
   "source": [
    "## Import Modules python yang dibutuhkan\n",
    "Adapun module yang digunakan antara lain:\n",
    "1. Module `requests` digunakan untuk membuka web http://mounts-project.com\n",
    "2. Module `json` digunakan untuk melakukan formatting data JSON\n",
    "3. Module `re` digunakan untuk melakukan ekstraksi data JSON dari variable JavaScript menggunakan Regex\n",
    "4. Module `pandas` digunakan untuk melakukan formatting data ke DataFrame dan converting ke Excel atau CSV\n",
    "5. Module `os` digunakan untuk mendapatkan directory dan file\n",
    "6. Module `JSON` digunakan untuk display data JSON"
   ]
  },
  {
   "cell_type": "code",
   "execution_count": 2,
   "id": "b9480316-ce59-4dc8-b7bf-50a339aae071",
   "metadata": {},
   "outputs": [],
   "source": [
    "import requests\n",
    "import json\n",
    "import re\n",
    "import pandas as pd\n",
    "import os\n",
    "from IPython.display import JSON\n",
    "from datetime import datetime"
   ]
  },
  {
   "cell_type": "markdown",
   "id": "3853e2d4-1f8b-4763-be37-a479e98a4dfa",
   "metadata": {},
   "source": [
    "## Inisiasi Variable yang Dibutuhkan\n",
    "Inisiasi variable untuk web http://mounts-project.com"
   ]
  },
  {
   "cell_type": "code",
   "execution_count": 3,
   "id": "6f83c71d-3814-4167-b241-8976135f9582",
   "metadata": {},
   "outputs": [],
   "source": [
    "mounts_url = 'http://mounts-project.com/timeseries/'"
   ]
  },
  {
   "cell_type": "markdown",
   "id": "34fa45de-4e53-4a41-9658-6b26c88da130",
   "metadata": {},
   "source": [
    "Inisiasi variable untuk `output_directory` tempat hasil ekstrak data disimpan"
   ]
  },
  {
   "cell_type": "code",
   "execution_count": 4,
   "id": "45f9aff2-9b0a-415e-9abc-fa29fb504a77",
   "metadata": {},
   "outputs": [
    {
     "data": {
      "text/plain": [
       "'E:\\\\Projects\\\\extract-mounts\\\\output'"
      ]
     },
     "execution_count": 4,
     "metadata": {},
     "output_type": "execute_result"
    }
   ],
   "source": [
    "output_directory = os.path.join(os.getcwd(), 'output')\n",
    "\n",
    "output_directory"
   ]
  },
  {
   "cell_type": "code",
   "execution_count": 5,
   "id": "87950f4c-a829-4227-80a7-6dd44810c56b",
   "metadata": {},
   "outputs": [],
   "source": [
    "if (not os.path.exists(output_directory)):\n",
    "    os.mkdir(output_directory)"
   ]
  },
  {
   "cell_type": "markdown",
   "id": "9aab296d-33be-4236-8425-08a6d04a53e4",
   "metadata": {},
   "source": [
    "Variable `volcanoes` merupakan variable kode gunung api berdasarkan ID smithsonian number (https://volcano.si.edu/).  \n",
    "Untuk mendapatkan data beberapa gunung api, masukkan kode gunung api dalam bentuk `list`"
   ]
  },
  {
   "cell_type": "code",
   "execution_count": 6,
   "id": "a59bc199-1acf-4518-bbb3-87977f02ffdc",
   "metadata": {},
   "outputs": [],
   "source": [
    "volcanoes = [\n",
    "    {\n",
    "        \"name\" : \"Anak Krakatau\",\n",
    "        \"code\" : 262000,\n",
    "    },\n",
    "    {\n",
    "        \"name\" : \"Kerinci\",\n",
    "        \"code\" : 261170,\n",
    "    }\n",
    "    # {\n",
    "    #     \"name\" : \"Karangetang\",\n",
    "    #     \"code\" : 267020,\n",
    "    # },\n",
    "    # {\n",
    "    #     \"name\" : \"Dukono\",\n",
    "    #     \"code\" : 268010,\n",
    "    # },\n",
    "    # {\n",
    "    #     \"name\" : \"Ili Lewotolok\",\n",
    "    #     \"code\" : 264230,\n",
    "    # },\n",
    "    # {\n",
    "    #     \"name\" : \"Ibu\",\n",
    "    #     \"code\" : 268030,\n",
    "    # },\n",
    "    # {\n",
    "    #     \"name\" : \"Semeru\",\n",
    "    #     \"code\" : 263300,\n",
    "    # },\n",
    "    # {\n",
    "    #     \"name\" : \"Raung\",\n",
    "    #     \"code\" : 263340,\n",
    "    # },\n",
    "    # {\n",
    "    #     \"name\" : \"Ijen\",\n",
    "    #     \"code\" : 263350,\n",
    "    # }\n",
    "]"
   ]
  },
  {
   "cell_type": "code",
   "execution_count": 7,
   "id": "f4983e1b-1388-4339-b1f0-dab2ee0b5fe5",
   "metadata": {},
   "outputs": [
    {
     "name": "stdout",
     "output_type": "stream",
     "text": [
      "Anak Krakatau 262000\n",
      "Kerinci 261170\n"
     ]
    }
   ],
   "source": [
    "for index, volcano in enumerate(volcanoes):\n",
    "    print(volcano['name'], volcano['code'])"
   ]
  },
  {
   "cell_type": "markdown",
   "id": "c447bfc7-f02a-4e0c-bc46-6141d9f28a05",
   "metadata": {},
   "source": [
    "Menginisiasi list kosong untuk menyimpan DataFrame hasil ekstraksi data. List ini akan berisi kumpulan data Thermal dan SO2 dari berbagai gunung api"
   ]
  },
  {
   "cell_type": "code",
   "execution_count": 8,
   "id": "29ebf858-9d92-4752-9b99-4509fbc7ead6",
   "metadata": {},
   "outputs": [],
   "source": [
    "dataframes = {}"
   ]
  },
  {
   "cell_type": "markdown",
   "id": "09dfacef-01d1-4cbf-911b-da3816b7bfdd",
   "metadata": {},
   "source": [
    "---\n",
    "## Inisiasi Fungsi-fungsi yang digunakan untuk extract, transformasi, dan export data\n",
    "Fungsi yang digunakan untuk mengeskstrak variable JSON Thermal dan SO2 dari JavaScript web Mounts Project. Variabel ini tersimpan dengan nama `var_graph`"
   ]
  },
  {
   "cell_type": "code",
   "execution_count": 9,
   "id": "089a2fb2-609e-4e03-bf69-cb666f2a0d33",
   "metadata": {},
   "outputs": [],
   "source": [
    "def get_json_from_javascript(response):\n",
    "    var_graph = re.search(r\"(?:^|\\s|;)var\\s+graph\\s*=\\s*([^']+})\", response.text)\n",
    "    string_graph = var_graph.group(1)\n",
    "    json_graph = json.loads(string_graph)\n",
    "    return json_graph"
   ]
  },
  {
   "cell_type": "markdown",
   "id": "041b0465-705e-468b-b064-0b43df8e5f5e",
   "metadata": {},
   "source": [
    "Hasil dari ekstraksi JSON pada fungsi `get_json_from_javascript` selanjutnya digunakan untuk extraksi nilai **SO2** dan **Thermal**"
   ]
  },
  {
   "cell_type": "code",
   "execution_count": 10,
   "id": "a65d9057-9180-4e72-9e5c-a0b3f8d85e71",
   "metadata": {},
   "outputs": [],
   "source": [
    "def get_so2_values(graph_json):\n",
    "    so2_values = {\n",
    "        'Date time': graph_json['data'][2]['x'],\n",
    "        'Value': graph_json['data'][2]['y'],\n",
    "    }\n",
    "    so2_df = pd.DataFrame.from_dict(so2_values)\n",
    "    so2_df['Type'] = 'SO2'\n",
    "    return so2_df"
   ]
  },
  {
   "cell_type": "code",
   "execution_count": 11,
   "id": "c74b4f22-e9ae-44c2-825c-b2831343fc4a",
   "metadata": {},
   "outputs": [],
   "source": [
    "def get_thermal_values(graph_json):\n",
    "    thermal_values = {\n",
    "        'Date time': graph_json['data'][0]['x'],\n",
    "        'Value': graph_json['data'][0]['y'],\n",
    "    }\n",
    "    thermal_df = pd.DataFrame.from_dict(thermal_values)\n",
    "    thermal_df['Type'] = 'Thermal'\n",
    "    return thermal_df"
   ]
  },
  {
   "cell_type": "markdown",
   "id": "ac0785a8-01e0-473c-9b10-a8ab4bba2259",
   "metadata": {},
   "source": [
    "Splitting kolom `Date Time` ke `Date` dan `Time`"
   ]
  },
  {
   "cell_type": "code",
   "execution_count": 12,
   "id": "b48c1dab-1a13-4334-bd2e-7ffa8eb0a757",
   "metadata": {},
   "outputs": [],
   "source": [
    "def convert_to_date(date_time):\n",
    "    return date_time.strftime(\"%Y-%m-%d\")"
   ]
  },
  {
   "cell_type": "code",
   "execution_count": 13,
   "id": "5024c65c-c643-418e-951e-2dec9806a304",
   "metadata": {},
   "outputs": [],
   "source": [
    "def convert_to_time(date_time):\n",
    "    return date_time.strftime(\"%H:%M:%S\")"
   ]
  },
  {
   "cell_type": "markdown",
   "id": "c4df7e5c-d6a2-4692-95b8-fb47dfc46f70",
   "metadata": {},
   "source": [
    "Fungsi ini digunakan untuk meng-export data hasil ekstraksi ke dalam format Excel"
   ]
  },
  {
   "cell_type": "code",
   "execution_count": 14,
   "id": "bcb0692b-d499-45df-9d0b-c2c68d6d3721",
   "metadata": {},
   "outputs": [],
   "source": [
    "def export_to_excel(filtered_df, volcano_code, volcano_name):\n",
    "    filename = '{} - {}.xlsx'.format(volcano_name, volcano_code)\n",
    "    filtered_df.to_excel(os.path.join(output_directory, filename), sheet_name='Join Data')"
   ]
  },
  {
   "cell_type": "markdown",
   "id": "71ea4b88-ae74-44c3-81fc-a045ff500a16",
   "metadata": {},
   "source": [
    "---\n",
    "## Kode Utama\n",
    "Kode utama ekstraksi data"
   ]
  },
  {
   "cell_type": "code",
   "execution_count": 15,
   "id": "be70ecf1-0827-44db-8b5b-67448c7ce04c",
   "metadata": {},
   "outputs": [
    {
     "name": "stdout",
     "output_type": "stream",
     "text": [
      "Data untuk gunung api Anak Krakatau berhasil diekstrak, dan disimpan dalam variable dataframes['Anak Krakatau']\n",
      "Data untuk gunung api Kerinci berhasil diekstrak, dan disimpan dalam variable dataframes['Kerinci']\n"
     ]
    }
   ],
   "source": [
    "for index, volcano in enumerate(volcanoes):\n",
    "    volcano_code = volcano['code']\n",
    "    volcano_name = volcano['name']\n",
    "    \n",
    "    # http://mounts-project.com/timeseries/262000\n",
    "    url = mounts_url+str(volcano_code) \n",
    "    \n",
    "    # Buka http://mounts-project.com/timeseries/262000\n",
    "    response = requests.get(url)\n",
    "    \n",
    "    # Get data JSON\n",
    "    graph_json = get_json_from_javascript(response)\n",
    "    \n",
    "    so2 = get_so2_values(graph_json)\n",
    "    thermal = get_thermal_values(graph_json)\n",
    "    \n",
    "    df = pd.concat([\n",
    "        so2,\n",
    "        thermal\n",
    "    ])\n",
    "    \n",
    "    df['Date time'] = pd.to_datetime(df['Date time'])\n",
    "    df['Date'] = df['Date time'].apply(convert_to_date)\n",
    "    df['Time'] = df['Date time'].apply(convert_to_time)\n",
    "    df['Code'] = volcano_code\n",
    "    df.set_index('Date time', inplace=True)\n",
    "    \n",
    "    filtered_df = df[df['Value'] > 0.1]\n",
    "    dataframes[volcano_name] = filtered_df\n",
    "    export_to_excel(filtered_df, volcano_code, volcano_name)\n",
    "    print(\"Data untuk gunung api {} berhasil diekstrak, dan disimpan dalam variable dataframes['{}']\".format(volcano_name,volcano_name))"
   ]
  },
  {
   "cell_type": "code",
   "execution_count": 16,
   "id": "53eb0d48-e495-405f-bce4-a9b64ccc32d7",
   "metadata": {},
   "outputs": [
    {
     "data": {
      "text/plain": [
       "{'Anak Krakatau':                      Value     Type        Date      Time    Code\n",
       " Date time                                                        \n",
       " 2019-03-27 05:58:25   40.4      SO2  2019-03-27  05:58:25  262000\n",
       " 2019-06-09 06:13:34   28.4      SO2  2019-06-09  06:13:34  262000\n",
       " 2019-08-17 06:16:03   35.7      SO2  2019-08-17  06:16:03  262000\n",
       " 2019-08-28 06:12:58   60.5      SO2  2019-08-28  06:12:58  262000\n",
       " 2019-09-06 06:42:57   34.2      SO2  2019-09-06  06:42:57  262000\n",
       " ...                    ...      ...         ...       ...     ...\n",
       " 2022-11-30 03:00:59    6.0  Thermal  2022-11-30  03:00:59  262000\n",
       " 2022-12-05 03:01:11    2.0  Thermal  2022-12-05  03:01:11  262000\n",
       " 2022-12-10 03:01:19    1.0  Thermal  2022-12-10  03:01:19  262000\n",
       " 2022-12-15 03:01:31   11.0  Thermal  2022-12-15  03:01:31  262000\n",
       " 2023-01-12 03:10:59    1.0  Thermal  2023-01-12  03:10:59  262000\n",
       " \n",
       " [369 rows x 5 columns],\n",
       " 'Kerinci':                      Value     Type        Date      Time    Code\n",
       " Date time                                                        \n",
       " 2020-10-26 06:43:33   47.0      SO2  2020-10-26  06:43:33  261170\n",
       " 2020-10-27 06:23:33   38.7      SO2  2020-10-27  06:23:33  261170\n",
       " 2020-11-05 06:58:34   26.5      SO2  2020-11-05  06:58:34  261170\n",
       " 2020-11-07 06:18:34   12.3      SO2  2020-11-07  06:18:34  261170\n",
       " 2020-12-20 06:14:42   17.5      SO2  2020-12-20  06:14:42  261170\n",
       " ...                    ...      ...         ...       ...     ...\n",
       " 2022-02-22 03:27:39    2.0  Thermal  2022-02-22  03:27:39  261170\n",
       " 2022-02-27 03:27:11    3.0  Thermal  2022-02-27  03:27:11  261170\n",
       " 2022-03-24 03:25:39    3.0  Thermal  2022-03-24  03:25:39  261170\n",
       " 2022-03-29 03:25:41   13.0  Thermal  2022-03-29  03:25:41  261170\n",
       " 2022-07-17 03:25:31    6.0  Thermal  2022-07-17  03:25:31  261170\n",
       " \n",
       " [204 rows x 5 columns]}"
      ]
     },
     "execution_count": 16,
     "metadata": {},
     "output_type": "execute_result"
    }
   ],
   "source": [
    "dataframes"
   ]
  },
  {
   "cell_type": "code",
   "execution_count": null,
   "id": "e9e32ff4-2bc6-4945-9c5e-df3a3618f977",
   "metadata": {},
   "outputs": [],
   "source": []
  }
 ],
 "metadata": {
  "kernelspec": {
   "display_name": "Python 3 (ipykernel)",
   "language": "python",
   "name": "python3"
  },
  "language_info": {
   "codemirror_mode": {
    "name": "ipython",
    "version": 3
   },
   "file_extension": ".py",
   "mimetype": "text/x-python",
   "name": "python",
   "nbconvert_exporter": "python",
   "pygments_lexer": "ipython3",
   "version": "3.9.12"
  }
 },
 "nbformat": 4,
 "nbformat_minor": 5
}
