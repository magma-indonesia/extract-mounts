{
 "cells": [
  {
   "cell_type": "markdown",
   "id": "4f5bf0af-8865-45ad-aaee-bd97cd7210fa",
   "metadata": {},
   "source": [
    "## Import Modules python yang dibutuhkan\n",
    "Adapun module yang digunakan antara lain:\n",
    "1. Module `requests` digunakan untuk membuka web http://mounts-project.com\n",
    "2. Module `json` digunakan untuk melakukan formatting data JSON\n",
    "3. Module `re` digunakan untuk melakukan ekstraksi data JSON dari variable JavaScript menggunakan Regex\n",
    "4. Module `pandas` digunakan untuk melakukan formatting data ke DataFrame dan converting ke Excel atau CSV\n",
    "5. Module `os` digunakan untuk mendapatkan directory dan file\n",
    "6. Module `JSON` digunakan untuk display data JSON"
   ]
  },
  {
   "cell_type": "code",
   "execution_count": null,
   "id": "b9480316-ce59-4dc8-b7bf-50a339aae071",
   "metadata": {},
   "outputs": [],
   "source": [
    "import requests\n",
    "import json\n",
    "import re\n",
    "import pandas as pd\n",
    "import os\n",
    "from IPython.display import JSON\n",
    "from datetime import datetime"
   ]
  },
  {
   "cell_type": "markdown",
   "id": "3853e2d4-1f8b-4763-be37-a479e98a4dfa",
   "metadata": {},
   "source": [
    "## Inisiasi Variable yang Dibutuhkan\n",
    "Inisiasi variable untuk web http://mounts-project.com"
   ]
  },
  {
   "cell_type": "code",
   "execution_count": null,
   "id": "6f83c71d-3814-4167-b241-8976135f9582",
   "metadata": {},
   "outputs": [],
   "source": [
    "mounts_url = 'http://mounts-project.com/timeseries/'\n",
    "include_anomali = False\n",
    "filter_value = 0.1"
   ]
  },
  {
   "cell_type": "markdown",
   "id": "34fa45de-4e53-4a41-9658-6b26c88da130",
   "metadata": {},
   "source": [
    "Inisiasi variable untuk `output_directory` tempat hasil ekstrak data disimpan"
   ]
  },
  {
   "cell_type": "code",
   "execution_count": null,
   "id": "45f9aff2-9b0a-415e-9abc-fa29fb504a77",
   "metadata": {},
   "outputs": [],
   "source": [
    "output_directory = os.path.join(os.getcwd(), 'output')\n",
    "\n",
    "output_directory"
   ]
  },
  {
   "cell_type": "code",
   "execution_count": null,
   "id": "87950f4c-a829-4227-80a7-6dd44810c56b",
   "metadata": {},
   "outputs": [],
   "source": [
    "if (not os.path.exists(output_directory)):\n",
    "    os.mkdir(output_directory)"
   ]
  },
  {
   "cell_type": "markdown",
   "id": "9aab296d-33be-4236-8425-08a6d04a53e4",
   "metadata": {},
   "source": [
    "Variable `volcanoes` merupakan variable kode gunung api berdasarkan ID smithsonian number (https://volcano.si.edu/).  \n",
    "Untuk mendapatkan data beberapa gunung api, masukkan kode gunung api dalam bentuk `list`"
   ]
  },
  {
   "cell_type": "code",
   "execution_count": null,
   "id": "a59bc199-1acf-4518-bbb3-87977f02ffdc",
   "metadata": {},
   "outputs": [],
   "source": [
    "volcanoes = [\n",
    "    {\n",
    "        \"name\" : \"Lewotobi Laki-laki\",\n",
    "        \"code\" : 264180,\n",
    "    },\n",
    "    {\n",
    "        \"name\" : \"Marapi\",\n",
    "        \"code\" : 261140,\n",
    "    },\n",
    "    {\n",
    "        \"name\" : \"Anak Krakatau\",\n",
    "        \"code\" : 262000,\n",
    "    },\n",
    "    {\n",
    "        \"name\" : \"Kerinci\",\n",
    "        \"code\" : 261170,\n",
    "    },\n",
    "    {\n",
    "        \"name\" : \"Karangetang\",\n",
    "        \"code\" : 267020,\n",
    "    },\n",
    "    {\n",
    "        \"name\" : \"Dukono\",\n",
    "        \"code\" : 268010,\n",
    "    },\n",
    "    {\n",
    "        \"name\" : \"Ili Lewotolok\",\n",
    "        \"code\" : 264230,\n",
    "    },\n",
    "    {\n",
    "        \"name\" : \"Ibu\",\n",
    "        \"code\" : 268030,\n",
    "    },\n",
    "    {\n",
    "        \"name\" : \"Semeru\",\n",
    "        \"code\" : 263300,\n",
    "    },\n",
    "    {\n",
    "        \"name\" : \"Raung\",\n",
    "        \"code\" : 263340,\n",
    "    },\n",
    "    {\n",
    "        \"name\" : \"Ijen\",\n",
    "        \"code\" : 263350,\n",
    "    },\n",
    "    {\n",
    "        \"name\" : \"Slamet\",\n",
    "        \"code\" : 263180\n",
    "    }\n",
    "]"
   ]
  },
  {
   "cell_type": "code",
   "execution_count": null,
   "id": "f4983e1b-1388-4339-b1f0-dab2ee0b5fe5",
   "metadata": {},
   "outputs": [],
   "source": [
    "for index, volcano in enumerate(volcanoes):\n",
    "    print(volcano['name'], volcano['code'])"
   ]
  },
  {
   "cell_type": "markdown",
   "id": "c447bfc7-f02a-4e0c-bc46-6141d9f28a05",
   "metadata": {},
   "source": [
    "Menginisiasi list kosong untuk menyimpan DataFrame hasil ekstraksi data. List ini akan berisi kumpulan data Thermal dan SO2 dari berbagai gunung api"
   ]
  },
  {
   "cell_type": "code",
   "execution_count": null,
   "id": "29ebf858-9d92-4752-9b99-4509fbc7ead6",
   "metadata": {},
   "outputs": [],
   "source": [
    "dataframes = {}"
   ]
  },
  {
   "cell_type": "markdown",
   "id": "09dfacef-01d1-4cbf-911b-da3816b7bfdd",
   "metadata": {},
   "source": [
    "---\n",
    "## Inisiasi Fungsi-fungsi yang digunakan untuk extract, transformasi, dan export data\n",
    "Fungsi yang digunakan untuk mengeskstrak variable JSON Thermal dan SO2 dari JavaScript web Mounts Project. Variabel ini tersimpan dengan nama `var_graph`"
   ]
  },
  {
   "cell_type": "code",
   "execution_count": null,
   "id": "089a2fb2-609e-4e03-bf69-cb666f2a0d33",
   "metadata": {},
   "outputs": [],
   "source": [
    "def get_json_from_javascript(response):\n",
    "    var_graph = re.search(r\"(?:^|\\s|;)var\\s+graph\\s*=\\s*([^']+})\", response.text)\n",
    "    string_graph = var_graph.group(1)\n",
    "    json_graph = json.loads(string_graph)\n",
    "    return json_graph"
   ]
  },
  {
   "cell_type": "markdown",
   "id": "041b0465-705e-468b-b064-0b43df8e5f5e",
   "metadata": {},
   "source": [
    "Hasil dari ekstraksi JSON pada fungsi `get_json_from_javascript` selanjutnya digunakan untuk extraksi nilai **SO2** dan **Thermal**"
   ]
  },
  {
   "cell_type": "code",
   "execution_count": null,
   "id": "a65d9057-9180-4e72-9e5c-a0b3f8d85e71",
   "metadata": {},
   "outputs": [],
   "source": [
    "def get_so2_values(graph_json):\n",
    "    so2_values = {\n",
    "        'Date time': graph_json['data'][2]['x'],\n",
    "        'Value': graph_json['data'][2]['y'],\n",
    "        'Graph': graph_json['data'][2]['text'],\n",
    "    }\n",
    "    so2_df = pd.DataFrame.from_dict(so2_values)\n",
    "    so2_df['Type'] = 'SO2'\n",
    "    return so2_df"
   ]
  },
  {
   "cell_type": "code",
   "execution_count": null,
   "id": "c74b4f22-e9ae-44c2-825c-b2831343fc4a",
   "metadata": {},
   "outputs": [],
   "source": [
    "def get_thermal_values(graph_json):\n",
    "    thermal_values = {\n",
    "        'Date time': graph_json['data'][0]['x'],\n",
    "        'Value': graph_json['data'][0]['y'],\n",
    "        'Graph': graph_json['data'][0]['text'],\n",
    "    }\n",
    "    thermal_df = pd.DataFrame.from_dict(thermal_values)\n",
    "    thermal_df['Type'] = 'Thermal'\n",
    "    return thermal_df"
   ]
  },
  {
   "cell_type": "markdown",
   "id": "ac0785a8-01e0-473c-9b10-a8ab4bba2259",
   "metadata": {},
   "source": [
    "Splitting kolom `Date Time` ke `Date` dan `Time`"
   ]
  },
  {
   "cell_type": "code",
   "execution_count": null,
   "id": "b48c1dab-1a13-4334-bd2e-7ffa8eb0a757",
   "metadata": {},
   "outputs": [],
   "source": [
    "def convert_to_date(date_time):\n",
    "    return date_time.strftime(\"%Y-%m-%d\")"
   ]
  },
  {
   "cell_type": "code",
   "execution_count": null,
   "id": "5024c65c-c643-418e-951e-2dec9806a304",
   "metadata": {},
   "outputs": [],
   "source": [
    "def convert_to_time(date_time):\n",
    "    return date_time.strftime(\"%H:%M:%S\")"
   ]
  },
  {
   "cell_type": "markdown",
   "id": "c4df7e5c-d6a2-4692-95b8-fb47dfc46f70",
   "metadata": {},
   "source": [
    "Fungsi ini digunakan untuk meng-export data hasil ekstraksi ke dalam format Excel"
   ]
  },
  {
   "cell_type": "code",
   "execution_count": null,
   "id": "bcb0692b-d499-45df-9d0b-c2c68d6d3721",
   "metadata": {},
   "outputs": [],
   "source": [
    "def export_to_excel(filtered_df, volcano_code, volcano_name):\n",
    "    filename = '{} - {}.xlsx'.format(volcano_name, volcano_code)\n",
    "    path = os.path.join(output_directory, filename)\n",
    "    filtered_df.to_excel(path, sheet_name='Join Data')\n",
    "    return path"
   ]
  },
  {
   "cell_type": "markdown",
   "id": "71ea4b88-ae74-44c3-81fc-a045ff500a16",
   "metadata": {},
   "source": [
    "---\n",
    "## Kode Utama\n",
    "Kode utama ekstraksi data"
   ]
  },
  {
   "cell_type": "code",
   "execution_count": null,
   "id": "be70ecf1-0827-44db-8b5b-67448c7ce04c",
   "metadata": {},
   "outputs": [],
   "source": [
    "df_csv = pd.DataFrame()\n",
    "concat_df = []\n",
    "\n",
    "for index, volcano in enumerate(volcanoes):\n",
    "    volcano_code = volcano['code']\n",
    "    volcano_name = volcano['name']\n",
    "    \n",
    "    # http://mounts-project.com/timeseries/262000\n",
    "    url = mounts_url+str(volcano_code) \n",
    "    \n",
    "    # Buka http://mounts-project.com/timeseries/262000\n",
    "    response = requests.get(url)\n",
    "    \n",
    "    # Get data JSON\n",
    "    graph_json = get_json_from_javascript(response)\n",
    "    \n",
    "    # save json\n",
    "    json_dir = os.path.join(os.getcwd(), 'json')\n",
    "    os.makedirs(json_dir, exist_ok = True)\n",
    "    json_file = os.path.join(json_dir, '{}.json'.format(volcano['code']))\n",
    "                             \n",
    "    with open(json_file, \"w\") as write_file:\n",
    "        json.dump(graph_json['data'], write_file, indent=2)\n",
    "    \n",
    "    so2 = get_so2_values(graph_json)\n",
    "    thermal = get_thermal_values(graph_json)\n",
    "    \n",
    "    df = pd.concat([\n",
    "        so2,\n",
    "        thermal\n",
    "    ])\n",
    "    \n",
    "    df['Date time'] = pd.to_datetime(df['Date time'])\n",
    "    df['Date'] = df['Date time'].apply(convert_to_date)\n",
    "    df['Time'] = df['Date time'].apply(convert_to_time)\n",
    "    df['Code'] = volcano_code\n",
    "    df['Volcano Name'] = volcano_name\n",
    "    df.set_index('Date time', inplace=True)\n",
    "    \n",
    "    if include_anomali:\n",
    "        filter_value = 0\n",
    "    \n",
    "    filtered_df = df[df['Value'] > filter_value]\n",
    "    dataframes[volcano_name] = filtered_df\n",
    "    \n",
    "    concat_df.append(filtered_df)\n",
    "    \n",
    "    df_csv = pd.concat([\n",
    "        df_csv, pd.DataFrame([\n",
    "            {\n",
    "                \"code\" : volcano_code,\n",
    "                \"volcano_name\" : volcano_name,\n",
    "                \"filename\" : export_to_excel(filtered_df, volcano_code, volcano_name),\n",
    "                \"updated_at\" : filtered_df.index.max()\n",
    "            }]\n",
    "    )], ignore_index=True)\n",
    "    \n",
    "    print(\"Data untuk gunung api {} berhasil diekstrak, dan disimpan dalam variable dataframes['{}']\".format(volcano_name,volcano_name))"
   ]
  },
  {
   "cell_type": "code",
   "execution_count": null,
   "id": "cc8649ef-645d-4916-9793-dd48e6c80c9d",
   "metadata": {},
   "outputs": [],
   "source": [
    "merged = pd.concat(concat_df)"
   ]
  },
  {
   "cell_type": "code",
   "execution_count": null,
   "id": "6b5c8b3d-9185-45ae-b072-f30576117eaf",
   "metadata": {
    "tags": []
   },
   "outputs": [],
   "source": [
    "merged.to_excel(os.path.join(output_directory, 'All Volcano.xlsx'), sheet_name='Join Data')"
   ]
  },
  {
   "cell_type": "code",
   "execution_count": null,
   "id": "53eb0d48-e495-405f-bce4-a9b64ccc32d7",
   "metadata": {},
   "outputs": [],
   "source": [
    "df_csv"
   ]
  },
  {
   "cell_type": "code",
   "execution_count": null,
   "id": "533fb188-9c21-4a80-90c9-f93f6a419f45",
   "metadata": {},
   "outputs": [],
   "source": [
    "df_csv.to_csv('output.csv', index=False)"
   ]
  },
  {
   "cell_type": "code",
   "execution_count": null,
   "id": "9268db54-6c82-48f4-b016-ea5ddd10cf5f",
   "metadata": {},
   "outputs": [],
   "source": []
  }
 ],
 "metadata": {
  "kernelspec": {
   "display_name": "Python 3 (ipykernel)",
   "language": "python",
   "name": "python3"
  },
  "language_info": {
   "codemirror_mode": {
    "name": "ipython",
    "version": 3
   },
   "file_extension": ".py",
   "mimetype": "text/x-python",
   "name": "python",
   "nbconvert_exporter": "python",
   "pygments_lexer": "ipython3",
   "version": "3.9.12"
  }
 },
 "nbformat": 4,
 "nbformat_minor": 5
}
