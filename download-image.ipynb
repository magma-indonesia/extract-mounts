{
 "cells": [
  {
   "cell_type": "code",
   "execution_count": null,
   "id": "b0d5b477-6666-4b92-adfa-d9dfdbde3261",
   "metadata": {
    "tags": []
   },
   "outputs": [],
   "source": [
    "import requests\n",
    "import pandas as pd\n",
    "import os\n",
    "from urllib.parse import urljoin\n",
    "import asyncio\n",
    "import aiohttp"
   ]
  },
  {
   "cell_type": "code",
   "execution_count": null,
   "id": "a1564642-5b47-4eb2-a75f-75fcf2591b79",
   "metadata": {
    "tags": []
   },
   "outputs": [],
   "source": [
    "output_directory = os.path.join(os.getcwd(), 'output')\n",
    "image_output_directory = os.path.join(os.getcwd(), 'image')\n",
    "thermal_image_directory = os.path.join(image_output_directory, 'thermal')\n",
    "so2_image_directory = os.path.join(image_output_directory, 'so2')\n",
    "\n",
    "static_url = 'http://mounts-project.com/static/'"
   ]
  },
  {
   "cell_type": "code",
   "execution_count": null,
   "id": "06398a07-fe3d-4923-a876-db8b5e3a6235",
   "metadata": {
    "tags": []
   },
   "outputs": [],
   "source": [
    "if (not os.path.exists(image_output_directory)):\n",
    "    os.mkdir(image_output_directory)\n",
    "    \n",
    "if (not os.path.exists(thermal_image_directory)):\n",
    "    os.mkdir(thermal_image_directory)\n",
    "    \n",
    "if (not os.path.exists(so2_image_directory)):\n",
    "    os.mkdir(so2_image_directory)"
   ]
  },
  {
   "cell_type": "code",
   "execution_count": null,
   "id": "39d47af6-6250-4720-9682-d999d0950c78",
   "metadata": {
    "tags": []
   },
   "outputs": [],
   "source": [
    "df_files = pd.read_excel('output.xlsx')"
   ]
  },
  {
   "cell_type": "code",
   "execution_count": null,
   "id": "0ccde5de-100f-4e65-965b-0fe713c46b88",
   "metadata": {
    "tags": []
   },
   "outputs": [],
   "source": [
    "df_files"
   ]
  },
  {
   "cell_type": "code",
   "execution_count": null,
   "id": "424d2b27-a908-4f22-a3d1-19d97cc02a63",
   "metadata": {
    "tags": []
   },
   "outputs": [],
   "source": [
    "dataframes = {}"
   ]
  },
  {
   "cell_type": "code",
   "execution_count": null,
   "id": "3b899f26-c3d3-4166-9ad5-43b6a39dc6d3",
   "metadata": {
    "tags": []
   },
   "outputs": [],
   "source": [
    "for index in df_files.index:\n",
    "    code = df_files['code'][index]\n",
    "    volcano_name = df_files['volcano_name'][index]\n",
    "    filename = df_files['filename'][index]\n",
    "    latest_update = df_files['updated_at'][index]\n",
    "    \n",
    "    excel = os.path.join(output_directory, filename)\n",
    "    \n",
    "    dataframes[code] = {}\n",
    "    \n",
    "    dataframes[code]['volcano_name'] = volcano_name\n",
    "    dataframes[code]['df'] = pd.read_excel(excel, parse_dates=True, index_col=0)\n",
    "    dataframes[code]['latest_update'] = latest_update"
   ]
  },
  {
   "cell_type": "code",
   "execution_count": null,
   "id": "992af704-584d-4f7c-8d67-3b850cb9771c",
   "metadata": {
    "tags": []
   },
   "outputs": [],
   "source": [
    "dataframes.keys()"
   ]
  },
  {
   "cell_type": "code",
   "execution_count": null,
   "id": "c13aae4d-e764-4f05-9ea9-4ce9bb0c3f8f",
   "metadata": {
    "tags": []
   },
   "outputs": [],
   "source": [
    "for key in dataframes.keys():\n",
    "    volcano_name = dataframes[key]['volcano_name']\n",
    "    df = dataframes[key]['df']\n",
    "    latest_update = dataframes[key]['latest_update']\n",
    "    \n",
    "    async with aiohttp.ClientSession() as session:\n",
    "        for index in df.index:\n",
    "            sub_image_directory = df['Type'][index].lower()\n",
    "            download_dir = os.path.join(image_output_directory, sub_image_directory, volcano_name)\n",
    "            os.makedirs(download_dir, exist_ok=True)\n",
    "\n",
    "            image_path_url = df['Graph'][index]\n",
    "            url = urljoin(static_url, image_path_url)\n",
    "            downloaded_filename = url.split(\"/\")[-1]\n",
    "            full_path_downloaded_filename = os.path.join(download_dir, downloaded_filename)\n",
    "\n",
    "            async with session.get(url) as response:\n",
    "                image = await response.read()\n",
    "\n",
    "                if response.ok:\n",
    "                    with open(full_path_downloaded_filename, 'wb') as f:\n",
    "                        f.write(image)\n",
    "                        print('Image sucessfully Downloaded: ', full_path_downloaded_filename)\n",
    "                else:\n",
    "                    print('Image Couldn\\'t be retrieved')"
   ]
  },
  {
   "cell_type": "code",
   "execution_count": null,
   "id": "5391f325-df71-47ce-ae70-428a1def6526",
   "metadata": {},
   "outputs": [],
   "source": []
  },
  {
   "cell_type": "code",
   "execution_count": null,
   "id": "70465d1f-b219-4be9-a46a-2594e6777cac",
   "metadata": {},
   "outputs": [],
   "source": []
  }
 ],
 "metadata": {
  "kernelspec": {
   "display_name": "Python 3 (ipykernel)",
   "language": "python",
   "name": "python3"
  },
  "language_info": {
   "codemirror_mode": {
    "name": "ipython",
    "version": 3
   },
   "file_extension": ".py",
   "mimetype": "text/x-python",
   "name": "python",
   "nbconvert_exporter": "python",
   "pygments_lexer": "ipython3",
   "version": "3.9.12"
  }
 },
 "nbformat": 4,
 "nbformat_minor": 5
}
