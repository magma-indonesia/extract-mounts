{
 "cells": [
  {
   "cell_type": "markdown",
   "id": "72b159c7-ab3c-4203-bfd2-661195efbe12",
   "metadata": {},
   "source": [
    "## Importing Modules\n",
    "Beberapa module ini digunakan untuk menjalankan code citra downloader dari web http://mounts-project.com"
   ]
  },
  {
   "cell_type": "code",
   "execution_count": null,
   "id": "b0d5b477-6666-4b92-adfa-d9dfdbde3261",
   "metadata": {
    "tags": []
   },
   "outputs": [],
   "source": [
    "import requests\n",
    "import pandas as pd\n",
    "import os\n",
    "from urllib.parse import urljoin\n",
    "import asyncio\n",
    "import aiohttp"
   ]
  },
  {
   "cell_type": "markdown",
   "id": "0c91c413-5000-4f80-b00f-4af486136dad",
   "metadata": {},
   "source": [
    "## Setting up variables\n",
    "Beberapa variable yang digunakan dan bisa dirubah sesuai dengan kebutuhan"
   ]
  },
  {
   "cell_type": "code",
   "execution_count": null,
   "id": "6a468e9a-a03d-43ad-8701-14eda6738276",
   "metadata": {
    "tags": []
   },
   "outputs": [],
   "source": [
    "STATIC_URL: str = 'http://mounts-project.com/static/'"
   ]
  },
  {
   "cell_type": "code",
   "execution_count": null,
   "id": "a1564642-5b47-4eb2-a75f-75fcf2591b79",
   "metadata": {
    "tags": []
   },
   "outputs": [],
   "source": [
    "output_directory = os.path.join(os.getcwd(), 'output')\n",
    "image_output_directory = os.path.join(os.getcwd(), 'image')\n",
    "thermal_image_directory = os.path.join(image_output_directory, 'thermal')\n",
    "so2_image_directory = os.path.join(image_output_directory, 'so2')"
   ]
  },
  {
   "cell_type": "markdown",
   "id": "cb8f3e91-b897-43eb-ab45-ab99b4ddeed7",
   "metadata": {},
   "source": [
    "## Checking existsing directory"
   ]
  },
  {
   "cell_type": "code",
   "execution_count": null,
   "id": "06398a07-fe3d-4923-a876-db8b5e3a6235",
   "metadata": {
    "tags": []
   },
   "outputs": [],
   "source": [
    "if (not os.path.exists(image_output_directory)):\n",
    "    os.mkdir(image_output_directory)\n",
    "    \n",
    "if (not os.path.exists(thermal_image_directory)):\n",
    "    os.mkdir(thermal_image_directory)\n",
    "    \n",
    "if (not os.path.exists(so2_image_directory)):\n",
    "    os.mkdir(so2_image_directory)"
   ]
  },
  {
   "cell_type": "markdown",
   "id": "7548ee00-a781-4ba7-a38c-7d935c407e12",
   "metadata": {},
   "source": [
    "## Read output.csv from previous extraction"
   ]
  },
  {
   "cell_type": "code",
   "execution_count": null,
   "id": "39d47af6-6250-4720-9682-d999d0950c78",
   "metadata": {
    "tags": []
   },
   "outputs": [],
   "source": [
    "df_files = pd.read_csv('output.csv')"
   ]
  },
  {
   "cell_type": "code",
   "execution_count": null,
   "id": "0ccde5de-100f-4e65-965b-0fe713c46b88",
   "metadata": {
    "tags": []
   },
   "outputs": [],
   "source": [
    "df_files"
   ]
  },
  {
   "cell_type": "code",
   "execution_count": null,
   "id": "424d2b27-a908-4f22-a3d1-19d97cc02a63",
   "metadata": {
    "tags": []
   },
   "outputs": [],
   "source": [
    "dataframes = {}"
   ]
  },
  {
   "cell_type": "code",
   "execution_count": null,
   "id": "3b899f26-c3d3-4166-9ad5-43b6a39dc6d3",
   "metadata": {
    "tags": []
   },
   "outputs": [],
   "source": [
    "for index in df_files.index:\n",
    "    code = df_files['code'][index]\n",
    "    volcano_name = df_files['volcano_name'][index]\n",
    "    filename = df_files['filename'][index]\n",
    "    latest_update = df_files['updated_at'][index]\n",
    "    \n",
    "    excel = os.path.join(output_directory, filename)\n",
    "    \n",
    "    dataframes[code] = {}\n",
    "    \n",
    "    dataframes[code]['volcano_name'] = volcano_name\n",
    "    dataframes[code]['df'] = pd.read_excel(excel, parse_dates=True, index_col=0)\n",
    "    dataframes[code]['latest_update'] = latest_update"
   ]
  },
  {
   "cell_type": "code",
   "execution_count": null,
   "id": "992af704-584d-4f7c-8d67-3b850cb9771c",
   "metadata": {
    "tags": []
   },
   "outputs": [],
   "source": [
    "dataframes.keys()"
   ]
  },
  {
   "cell_type": "code",
   "execution_count": null,
   "id": "5a528353-6534-46c1-afeb-ccf7cb10b155",
   "metadata": {
    "tags": []
   },
   "outputs": [],
   "source": [
    "if os.path.isfile('latest.csv'):\n",
    "    latest_df = pd.read_csv('latest.csv', index_col=\"code\")\n",
    "    print('File latest.csv exists!')\n",
    "else:\n",
    "    latest_df = pd.DataFrame()\n",
    "    print('File latest.csv NOT exists!')"
   ]
  },
  {
   "cell_type": "code",
   "execution_count": null,
   "id": "a6df14f4-71ef-45b3-a49c-ea0d83ba53f9",
   "metadata": {
    "tags": []
   },
   "outputs": [],
   "source": [
    "latest = []\n",
    "\n",
    "for code in dataframes.keys():\n",
    "    volcano_name = dataframes[code]['volcano_name']\n",
    "    \n",
    "    # Deciding to download all of the images or download only the latest images\n",
    "    print('=========================================')\n",
    "    if latest_df.empty:\n",
    "        df = dataframes[code]['df']\n",
    "        print('{}_{}_{}'.format(code, volcano_name, 'all'))\n",
    "    else:\n",
    "        latest_download = latest_df['latest_update'][code]\n",
    "        temp = dataframes[code]['df']\n",
    "        df = temp.loc[temp.index > latest_download]\n",
    "        print('{}_{}_{}'.format(code, volcano_name, latest_download))\n",
    "    print('=========================================')\n",
    "    \n",
    "    # Used to update the latest.csv\n",
    "    latest_update = dataframes[code]['latest_update']\n",
    "        \n",
    "    if not df.empty:\n",
    "        async with aiohttp.ClientSession() as session:\n",
    "            for index in df.index:\n",
    "                sub_image_directory = df['Type'][index].lower()\n",
    "                download_dir = os.path.join(image_output_directory, sub_image_directory, volcano_name)\n",
    "                os.makedirs(download_dir, exist_ok=True)\n",
    "\n",
    "                image_path_url = df['Graph'][index]\n",
    "                url = urljoin(STATIC_URL, image_path_url)\n",
    "                downloaded_filename = url.split(\"/\")[-1]\n",
    "                full_path_downloaded_filename = os.path.join(download_dir, downloaded_filename)\n",
    "                \n",
    "                # Download if file is not exists\n",
    "                if not os.path.isfile(full_path_downloaded_filename):\n",
    "                    async with session.get(url) as response:\n",
    "                        image = await response.read()\n",
    "\n",
    "                        if response.ok:\n",
    "                            with open(full_path_downloaded_filename, 'wb') as f:\n",
    "                                f.write(image)\n",
    "                                print('Image sucessfully Downloaded: ', full_path_downloaded_filename)\n",
    "                        else:\n",
    "                            print('Image Couldn\\'t be retrieved')\n",
    "                else:\n",
    "                    print('Image already exists : {}'.format(full_path_downloaded_filename))\n",
    "\n",
    "            latest.append({\n",
    "                \"code\" : code, \n",
    "                \"latest_update\" : latest_update\n",
    "            })"
   ]
  },
  {
   "cell_type": "code",
   "execution_count": null,
   "id": "3a175601-9cf9-469c-a9e0-c3c3cb6eb9b9",
   "metadata": {
    "tags": []
   },
   "outputs": [],
   "source": [
    "if latest:\n",
    "    latest_df = pd.DataFrame.from_records(latest, index=[\"code\"])\n",
    "    latest_df\n",
    "    latest_df.to_csv('latest.csv', index=True)    "
   ]
  }
 ],
 "metadata": {
  "kernelspec": {
   "display_name": "Python 3 (ipykernel)",
   "language": "python",
   "name": "python3"
  },
  "language_info": {
   "codemirror_mode": {
    "name": "ipython",
    "version": 3
   },
   "file_extension": ".py",
   "mimetype": "text/x-python",
   "name": "python",
   "nbconvert_exporter": "python",
   "pygments_lexer": "ipython3",
   "version": "3.9.12"
  }
 },
 "nbformat": 4,
 "nbformat_minor": 5
}
