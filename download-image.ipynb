{
 "cells": [
  {
   "cell_type": "markdown",
   "id": "72b159c7-ab3c-4203-bfd2-661195efbe12",
   "metadata": {},
   "source": [
    "## Importing Modules\n",
    "Beberapa module ini digunakan untuk menjalankan code citra downloader dari web http://mounts-project.com"
   ]
  },
  {
   "cell_type": "code",
   "id": "b0d5b477-6666-4b92-adfa-d9dfdbde3261",
   "metadata": {
    "tags": [],
    "ExecuteTime": {
     "end_time": "2024-04-12T07:58:58.323618Z",
     "start_time": "2024-04-12T07:58:57.553985Z"
    }
   },
   "source": [
    "import pandas as pd\n",
    "import os\n",
    "from urllib.parse import urljoin\n",
    "import aiohttp"
   ],
   "outputs": [],
   "execution_count": 1
  },
  {
   "cell_type": "markdown",
   "id": "0c91c413-5000-4f80-b00f-4af486136dad",
   "metadata": {},
   "source": [
    "## Setting up variables\n",
    "Beberapa variable yang digunakan dan bisa dirubah sesuai dengan kebutuhan"
   ]
  },
  {
   "cell_type": "code",
   "id": "6a468e9a-a03d-43ad-8701-14eda6738276",
   "metadata": {
    "tags": [],
    "ExecuteTime": {
     "end_time": "2024-04-12T07:58:58.328388Z",
     "start_time": "2024-04-12T07:58:58.325579Z"
    }
   },
   "source": [
    "STATIC_URL: str = 'http://mounts-project.com/static/'"
   ],
   "outputs": [],
   "execution_count": 2
  },
  {
   "cell_type": "code",
   "id": "a1564642-5b47-4eb2-a75f-75fcf2591b79",
   "metadata": {
    "tags": [],
    "ExecuteTime": {
     "end_time": "2024-04-12T07:58:58.333432Z",
     "start_time": "2024-04-12T07:58:58.329370Z"
    }
   },
   "source": [
    "output_directory = os.path.join(os.getcwd(), 'output')\n",
    "image_output_directory = os.path.join(os.getcwd(), 'image')\n",
    "thermal_image_directory = os.path.join(image_output_directory, 'thermal')\n",
    "so2_image_directory = os.path.join(image_output_directory, 'so2')"
   ],
   "outputs": [],
   "execution_count": 3
  },
  {
   "cell_type": "markdown",
   "id": "cb8f3e91-b897-43eb-ab45-ab99b4ddeed7",
   "metadata": {},
   "source": [
    "## Checking existsing directory"
   ]
  },
  {
   "cell_type": "code",
   "id": "06398a07-fe3d-4923-a876-db8b5e3a6235",
   "metadata": {
    "tags": [],
    "ExecuteTime": {
     "end_time": "2024-04-12T07:58:58.338334Z",
     "start_time": "2024-04-12T07:58:58.333945Z"
    }
   },
   "source": [
    "if (not os.path.exists(image_output_directory)):\n",
    "    os.mkdir(image_output_directory)\n",
    "    \n",
    "if (not os.path.exists(thermal_image_directory)):\n",
    "    os.mkdir(thermal_image_directory)\n",
    "    \n",
    "if (not os.path.exists(so2_image_directory)):\n",
    "    os.mkdir(so2_image_directory)"
   ],
   "outputs": [],
   "execution_count": 4
  },
  {
   "cell_type": "markdown",
   "id": "7548ee00-a781-4ba7-a38c-7d935c407e12",
   "metadata": {},
   "source": [
    "## Read output.csv from previous extraction"
   ]
  },
  {
   "cell_type": "code",
   "id": "39d47af6-6250-4720-9682-d999d0950c78",
   "metadata": {
    "tags": [],
    "ExecuteTime": {
     "end_time": "2024-04-12T07:58:58.346516Z",
     "start_time": "2024-04-12T07:58:58.339324Z"
    }
   },
   "source": [
    "df_files = pd.read_csv('output.csv')"
   ],
   "outputs": [],
   "execution_count": 5
  },
  {
   "cell_type": "code",
   "id": "0ccde5de-100f-4e65-965b-0fe713c46b88",
   "metadata": {
    "tags": [],
    "ExecuteTime": {
     "end_time": "2024-04-12T07:58:58.357324Z",
     "start_time": "2024-04-12T07:58:58.347507Z"
    }
   },
   "source": [
    "df_files"
   ],
   "outputs": [
    {
     "data": {
      "text/plain": [
       "      code        volcano_name  \\\n",
       "0   264180  Lewotobi Laki-laki   \n",
       "1   261140              Marapi   \n",
       "2   262000       Anak Krakatau   \n",
       "3   261170             Kerinci   \n",
       "4   267020         Karangetang   \n",
       "5   268010              Dukono   \n",
       "6   264230       Ili Lewotolok   \n",
       "7   268030                 Ibu   \n",
       "8   263300              Semeru   \n",
       "9   263340               Raung   \n",
       "10  263350                Ijen   \n",
       "11  263180              Slamet   \n",
       "\n",
       "                                             filename  \\\n",
       "0   D:\\Projects\\extract-mounts\\output\\Lewotobi Lak...   \n",
       "1   D:\\Projects\\extract-mounts\\output\\Marapi - 261...   \n",
       "2   D:\\Projects\\extract-mounts\\output\\Anak Krakata...   \n",
       "3   D:\\Projects\\extract-mounts\\output\\Kerinci - 26...   \n",
       "4   D:\\Projects\\extract-mounts\\output\\Karangetang ...   \n",
       "5   D:\\Projects\\extract-mounts\\output\\Dukono - 268...   \n",
       "6   D:\\Projects\\extract-mounts\\output\\Ili Lewotolo...   \n",
       "7   D:\\Projects\\extract-mounts\\output\\Ibu - 268030...   \n",
       "8   D:\\Projects\\extract-mounts\\output\\Semeru - 263...   \n",
       "9   D:\\Projects\\extract-mounts\\output\\Raung - 2633...   \n",
       "10  D:\\Projects\\extract-mounts\\output\\Ijen - 26335...   \n",
       "11  D:\\Projects\\extract-mounts\\output\\Slamet - 263...   \n",
       "\n",
       "                                                  csv           updated_at  \n",
       "0   D:\\Projects\\extract-mounts\\output\\csv\\Lewotobi...  2024-03-31 05:26:50  \n",
       "1   D:\\Projects\\extract-mounts\\output\\csv\\Marapi -...  2024-04-11 07:01:50  \n",
       "2   D:\\Projects\\extract-mounts\\output\\csv\\Anak Kra...  2024-02-08 02:59:01  \n",
       "3   D:\\Projects\\extract-mounts\\output\\csv\\Kerinci ...  2024-02-10 06:07:42  \n",
       "4   D:\\Projects\\extract-mounts\\output\\csv\\Karanget...  2024-04-12 02:04:49  \n",
       "5   D:\\Projects\\extract-mounts\\output\\csv\\Dukono -...  2024-04-12 05:05:34  \n",
       "6   D:\\Projects\\extract-mounts\\output\\csv\\Ili Lewo...  2024-04-12 02:04:49  \n",
       "7   D:\\Projects\\extract-mounts\\output\\csv\\Ibu - 26...  2024-04-12 05:05:34  \n",
       "8   D:\\Projects\\extract-mounts\\output\\csv\\Semeru -...  2024-04-11 05:21:50  \n",
       "9   D:\\Projects\\extract-mounts\\output\\csv\\Raung - ...  2024-04-09 05:56:50  \n",
       "10  D:\\Projects\\extract-mounts\\output\\csv\\Ijen - 2...  2024-04-05 05:31:51  \n",
       "11  D:\\Projects\\extract-mounts\\output\\csv\\Slamet -...  2024-01-01 02:51:29  "
      ],
      "text/html": [
       "<div>\n",
       "<style scoped>\n",
       "    .dataframe tbody tr th:only-of-type {\n",
       "        vertical-align: middle;\n",
       "    }\n",
       "\n",
       "    .dataframe tbody tr th {\n",
       "        vertical-align: top;\n",
       "    }\n",
       "\n",
       "    .dataframe thead th {\n",
       "        text-align: right;\n",
       "    }\n",
       "</style>\n",
       "<table border=\"1\" class=\"dataframe\">\n",
       "  <thead>\n",
       "    <tr style=\"text-align: right;\">\n",
       "      <th></th>\n",
       "      <th>code</th>\n",
       "      <th>volcano_name</th>\n",
       "      <th>filename</th>\n",
       "      <th>csv</th>\n",
       "      <th>updated_at</th>\n",
       "    </tr>\n",
       "  </thead>\n",
       "  <tbody>\n",
       "    <tr>\n",
       "      <th>0</th>\n",
       "      <td>264180</td>\n",
       "      <td>Lewotobi Laki-laki</td>\n",
       "      <td>D:\\Projects\\extract-mounts\\output\\Lewotobi Lak...</td>\n",
       "      <td>D:\\Projects\\extract-mounts\\output\\csv\\Lewotobi...</td>\n",
       "      <td>2024-03-31 05:26:50</td>\n",
       "    </tr>\n",
       "    <tr>\n",
       "      <th>1</th>\n",
       "      <td>261140</td>\n",
       "      <td>Marapi</td>\n",
       "      <td>D:\\Projects\\extract-mounts\\output\\Marapi - 261...</td>\n",
       "      <td>D:\\Projects\\extract-mounts\\output\\csv\\Marapi -...</td>\n",
       "      <td>2024-04-11 07:01:50</td>\n",
       "    </tr>\n",
       "    <tr>\n",
       "      <th>2</th>\n",
       "      <td>262000</td>\n",
       "      <td>Anak Krakatau</td>\n",
       "      <td>D:\\Projects\\extract-mounts\\output\\Anak Krakata...</td>\n",
       "      <td>D:\\Projects\\extract-mounts\\output\\csv\\Anak Kra...</td>\n",
       "      <td>2024-02-08 02:59:01</td>\n",
       "    </tr>\n",
       "    <tr>\n",
       "      <th>3</th>\n",
       "      <td>261170</td>\n",
       "      <td>Kerinci</td>\n",
       "      <td>D:\\Projects\\extract-mounts\\output\\Kerinci - 26...</td>\n",
       "      <td>D:\\Projects\\extract-mounts\\output\\csv\\Kerinci ...</td>\n",
       "      <td>2024-02-10 06:07:42</td>\n",
       "    </tr>\n",
       "    <tr>\n",
       "      <th>4</th>\n",
       "      <td>267020</td>\n",
       "      <td>Karangetang</td>\n",
       "      <td>D:\\Projects\\extract-mounts\\output\\Karangetang ...</td>\n",
       "      <td>D:\\Projects\\extract-mounts\\output\\csv\\Karanget...</td>\n",
       "      <td>2024-04-12 02:04:49</td>\n",
       "    </tr>\n",
       "    <tr>\n",
       "      <th>5</th>\n",
       "      <td>268010</td>\n",
       "      <td>Dukono</td>\n",
       "      <td>D:\\Projects\\extract-mounts\\output\\Dukono - 268...</td>\n",
       "      <td>D:\\Projects\\extract-mounts\\output\\csv\\Dukono -...</td>\n",
       "      <td>2024-04-12 05:05:34</td>\n",
       "    </tr>\n",
       "    <tr>\n",
       "      <th>6</th>\n",
       "      <td>264230</td>\n",
       "      <td>Ili Lewotolok</td>\n",
       "      <td>D:\\Projects\\extract-mounts\\output\\Ili Lewotolo...</td>\n",
       "      <td>D:\\Projects\\extract-mounts\\output\\csv\\Ili Lewo...</td>\n",
       "      <td>2024-04-12 02:04:49</td>\n",
       "    </tr>\n",
       "    <tr>\n",
       "      <th>7</th>\n",
       "      <td>268030</td>\n",
       "      <td>Ibu</td>\n",
       "      <td>D:\\Projects\\extract-mounts\\output\\Ibu - 268030...</td>\n",
       "      <td>D:\\Projects\\extract-mounts\\output\\csv\\Ibu - 26...</td>\n",
       "      <td>2024-04-12 05:05:34</td>\n",
       "    </tr>\n",
       "    <tr>\n",
       "      <th>8</th>\n",
       "      <td>263300</td>\n",
       "      <td>Semeru</td>\n",
       "      <td>D:\\Projects\\extract-mounts\\output\\Semeru - 263...</td>\n",
       "      <td>D:\\Projects\\extract-mounts\\output\\csv\\Semeru -...</td>\n",
       "      <td>2024-04-11 05:21:50</td>\n",
       "    </tr>\n",
       "    <tr>\n",
       "      <th>9</th>\n",
       "      <td>263340</td>\n",
       "      <td>Raung</td>\n",
       "      <td>D:\\Projects\\extract-mounts\\output\\Raung - 2633...</td>\n",
       "      <td>D:\\Projects\\extract-mounts\\output\\csv\\Raung - ...</td>\n",
       "      <td>2024-04-09 05:56:50</td>\n",
       "    </tr>\n",
       "    <tr>\n",
       "      <th>10</th>\n",
       "      <td>263350</td>\n",
       "      <td>Ijen</td>\n",
       "      <td>D:\\Projects\\extract-mounts\\output\\Ijen - 26335...</td>\n",
       "      <td>D:\\Projects\\extract-mounts\\output\\csv\\Ijen - 2...</td>\n",
       "      <td>2024-04-05 05:31:51</td>\n",
       "    </tr>\n",
       "    <tr>\n",
       "      <th>11</th>\n",
       "      <td>263180</td>\n",
       "      <td>Slamet</td>\n",
       "      <td>D:\\Projects\\extract-mounts\\output\\Slamet - 263...</td>\n",
       "      <td>D:\\Projects\\extract-mounts\\output\\csv\\Slamet -...</td>\n",
       "      <td>2024-01-01 02:51:29</td>\n",
       "    </tr>\n",
       "  </tbody>\n",
       "</table>\n",
       "</div>"
      ]
     },
     "execution_count": 6,
     "metadata": {},
     "output_type": "execute_result"
    }
   ],
   "execution_count": 6
  },
  {
   "cell_type": "code",
   "id": "424d2b27-a908-4f22-a3d1-19d97cc02a63",
   "metadata": {
    "tags": [],
    "ExecuteTime": {
     "end_time": "2024-04-12T07:58:58.360782Z",
     "start_time": "2024-04-12T07:58:58.358307Z"
    }
   },
   "source": [
    "dataframes = {}"
   ],
   "outputs": [],
   "execution_count": 7
  },
  {
   "cell_type": "code",
   "id": "3b899f26-c3d3-4166-9ad5-43b6a39dc6d3",
   "metadata": {
    "tags": [],
    "ExecuteTime": {
     "end_time": "2024-04-12T07:58:59.228640Z",
     "start_time": "2024-04-12T07:58:58.361978Z"
    }
   },
   "source": [
    "for index in df_files.index:\n",
    "    code = df_files['code'][index]\n",
    "    volcano_name = df_files['volcano_name'][index]\n",
    "    filename = df_files['filename'][index]\n",
    "    latest_update = df_files['updated_at'][index]\n",
    "    \n",
    "    excel = os.path.join(output_directory, filename)\n",
    "    \n",
    "    dataframes[code] = {}\n",
    "    \n",
    "    dataframes[code]['volcano_name'] = volcano_name\n",
    "    dataframes[code]['df'] = pd.read_excel(excel, parse_dates=True, index_col=0)\n",
    "    dataframes[code]['latest_update'] = latest_update"
   ],
   "outputs": [],
   "execution_count": 8
  },
  {
   "cell_type": "code",
   "id": "992af704-584d-4f7c-8d67-3b850cb9771c",
   "metadata": {
    "tags": [],
    "ExecuteTime": {
     "end_time": "2024-04-12T07:58:59.233090Z",
     "start_time": "2024-04-12T07:58:59.229622Z"
    }
   },
   "source": [
    "dataframes.keys()"
   ],
   "outputs": [
    {
     "data": {
      "text/plain": [
       "dict_keys([264180, 261140, 262000, 261170, 267020, 268010, 264230, 268030, 263300, 263340, 263350, 263180])"
      ]
     },
     "execution_count": 9,
     "metadata": {},
     "output_type": "execute_result"
    }
   ],
   "execution_count": 9
  },
  {
   "cell_type": "code",
   "id": "5a528353-6534-46c1-afeb-ccf7cb10b155",
   "metadata": {
    "tags": [],
    "ExecuteTime": {
     "end_time": "2024-04-12T07:58:59.241731Z",
     "start_time": "2024-04-12T07:58:59.233090Z"
    }
   },
   "source": [
    "latest_df = pd.DataFrame()\n",
    "\n",
    "if os.path.isfile('latest.csv'):\n",
    "    latest_df = pd.read_csv('latest.csv', index_col=\"code\")\n",
    "    print('File latest.csv exists!')\n",
    "else:\n",
    "    print('File latest.csv NOT exists!')"
   ],
   "outputs": [
    {
     "name": "stdout",
     "output_type": "stream",
     "text": [
      "File latest.csv exists!\n"
     ]
    }
   ],
   "execution_count": 10
  },
  {
   "cell_type": "code",
   "id": "a6df14f4-71ef-45b3-a49c-ea0d83ba53f9",
   "metadata": {
    "tags": [],
    "ExecuteTime": {
     "end_time": "2024-04-12T07:58:59.930888Z",
     "start_time": "2024-04-12T07:58:59.242713Z"
    }
   },
   "source": [
    "latest = []\n",
    "\n",
    "for code in dataframes.keys():\n",
    "    volcano_name = dataframes[code]['volcano_name']\n",
    "    \n",
    "    # Deciding to download all the images or download only the latest images\n",
    "    print('=========================================')\n",
    "    if latest_df.empty:\n",
    "        df = dataframes[code]['df']\n",
    "        print('{}_{}_{}'.format(code, volcano_name, 'all'))\n",
    "    else:\n",
    "        latest_download = latest_df['latest_update'][code]\n",
    "        temp = dataframes[code]['df']\n",
    "        df = temp.loc[temp.index > latest_download]\n",
    "        print('{}_{}_{}'.format(code, volcano_name, latest_download))\n",
    "    print('=========================================')\n",
    "    \n",
    "    # Used to update the latest.csv\n",
    "    latest_update = dataframes[code]['latest_update']\n",
    "        \n",
    "    if not df.empty:\n",
    "        async with aiohttp.ClientSession() as session:\n",
    "            for index in df.index:\n",
    "                sub_image_directory = df['Type'][index].lower()\n",
    "                download_dir = os.path.join(image_output_directory, sub_image_directory, volcano_name)\n",
    "                os.makedirs(download_dir, exist_ok=True)\n",
    "\n",
    "                image_path_url = df['Graph'][index]\n",
    "                url = urljoin(STATIC_URL, image_path_url)\n",
    "                downloaded_filename = url.split(\"/\")[-1]\n",
    "                full_path_downloaded_filename = os.path.join(download_dir, downloaded_filename)\n",
    "                \n",
    "                # Download if file is not exists\n",
    "                if not os.path.isfile(full_path_downloaded_filename):\n",
    "                    async with session.get(url) as response:\n",
    "                        image = await response.read()\n",
    "\n",
    "                        if response.ok:\n",
    "                            with open(full_path_downloaded_filename, 'wb') as f:\n",
    "                                f.write(image)\n",
    "                                print('Image sucessfully Downloaded: ', full_path_downloaded_filename)\n",
    "                        else:\n",
    "                            print('Image Couldn\\'t be retrieved')\n",
    "                else:\n",
    "                    print('Image already exists : {}'.format(full_path_downloaded_filename))\n",
    "\n",
    "            latest.append({\n",
    "                \"code\" : code, \n",
    "                \"latest_update\" : latest_update\n",
    "            })"
   ],
   "outputs": [
    {
     "name": "stdout",
     "output_type": "stream",
     "text": [
      "=========================================\n",
      "264180_Lewotobi Laki-laki_2024-03-31 05:26:50\n",
      "=========================================\n",
      "=========================================\n",
      "261140_Marapi_2024-04-09 06:01:50\n",
      "=========================================\n",
      "Image sucessfully Downloaded:  D:\\Projects\\extract-mounts\\image\\so2\\Marapi\\marapi_20240410T0721_SO2_PBL.png\n",
      "Image sucessfully Downloaded:  D:\\Projects\\extract-mounts\\image\\so2\\Marapi\\marapi_20240411T0701_SO2_PBL.png\n",
      "=========================================\n",
      "262000_Anak Krakatau_2024-02-08 02:59:01\n",
      "=========================================\n",
      "=========================================\n",
      "261170_Kerinci_2024-02-10 06:07:42\n",
      "=========================================\n",
      "=========================================\n",
      "267020_Karangetang_2024-04-08 04:41:50\n",
      "=========================================\n",
      "Image sucessfully Downloaded:  D:\\Projects\\extract-mounts\\image\\thermal\\Karangetang\\karangetang_20240412T020449_B12B11B8A_nir.png\n",
      "=========================================\n",
      "268010_Dukono_2024-04-11 05:21:50\n",
      "=========================================\n",
      "Image sucessfully Downloaded:  D:\\Projects\\extract-mounts\\image\\so2\\Dukono\\dukono_20240412T0505_SO2_PBL.png\n",
      "=========================================\n",
      "264230_Ili Lewotolok_2024-04-07 02:04:41\n",
      "=========================================\n",
      "Image sucessfully Downloaded:  D:\\Projects\\extract-mounts\\image\\thermal\\Ili Lewotolok\\lewotolo_20240412T020449_B12B11B8A_nir.png\n",
      "=========================================\n",
      "268030_Ibu_2024-04-10 05:41:50\n",
      "=========================================\n",
      "Image sucessfully Downloaded:  D:\\Projects\\extract-mounts\\image\\so2\\Ibu\\ibu_20240412T0505_SO2_PBL.png\n",
      "=========================================\n",
      "263300_Semeru_2024-04-10 05:41:50\n",
      "=========================================\n",
      "Image sucessfully Downloaded:  D:\\Projects\\extract-mounts\\image\\so2\\Semeru\\semeru_20240411T0521_SO2_PBL.png\n",
      "=========================================\n",
      "263340_Raung_2024-04-09 05:56:50\n",
      "=========================================\n",
      "=========================================\n",
      "263350_Ijen_2024-04-05 05:31:51\n",
      "=========================================\n",
      "=========================================\n",
      "263180_Slamet_2024-01-01 02:51:29\n",
      "=========================================\n"
     ]
    }
   ],
   "execution_count": 11
  },
  {
   "cell_type": "code",
   "id": "3a175601-9cf9-469c-a9e0-c3c3cb6eb9b9",
   "metadata": {
    "tags": [],
    "ExecuteTime": {
     "end_time": "2024-04-12T07:58:59.936500Z",
     "start_time": "2024-04-12T07:58:59.931913Z"
    }
   },
   "source": [
    "if latest:\n",
    "    latest_df = pd.DataFrame.from_records(latest, index=[\"code\"])\n",
    "    latest_df.to_csv('latest.csv', index=True)"
   ],
   "outputs": [],
   "execution_count": 12
  },
  {
   "metadata": {
    "ExecuteTime": {
     "end_time": "2024-04-12T07:58:59.946369Z",
     "start_time": "2024-04-12T07:58:59.936500Z"
    }
   },
   "cell_type": "code",
   "source": "latest_df",
   "id": "50ba98435bb17409",
   "outputs": [
    {
     "data": {
      "text/plain": [
       "              latest_update\n",
       "code                       \n",
       "261140  2024-04-11 07:01:50\n",
       "267020  2024-04-12 02:04:49\n",
       "268010  2024-04-12 05:05:34\n",
       "264230  2024-04-12 02:04:49\n",
       "268030  2024-04-12 05:05:34\n",
       "263300  2024-04-11 05:21:50"
      ],
      "text/html": [
       "<div>\n",
       "<style scoped>\n",
       "    .dataframe tbody tr th:only-of-type {\n",
       "        vertical-align: middle;\n",
       "    }\n",
       "\n",
       "    .dataframe tbody tr th {\n",
       "        vertical-align: top;\n",
       "    }\n",
       "\n",
       "    .dataframe thead th {\n",
       "        text-align: right;\n",
       "    }\n",
       "</style>\n",
       "<table border=\"1\" class=\"dataframe\">\n",
       "  <thead>\n",
       "    <tr style=\"text-align: right;\">\n",
       "      <th></th>\n",
       "      <th>latest_update</th>\n",
       "    </tr>\n",
       "    <tr>\n",
       "      <th>code</th>\n",
       "      <th></th>\n",
       "    </tr>\n",
       "  </thead>\n",
       "  <tbody>\n",
       "    <tr>\n",
       "      <th>261140</th>\n",
       "      <td>2024-04-11 07:01:50</td>\n",
       "    </tr>\n",
       "    <tr>\n",
       "      <th>267020</th>\n",
       "      <td>2024-04-12 02:04:49</td>\n",
       "    </tr>\n",
       "    <tr>\n",
       "      <th>268010</th>\n",
       "      <td>2024-04-12 05:05:34</td>\n",
       "    </tr>\n",
       "    <tr>\n",
       "      <th>264230</th>\n",
       "      <td>2024-04-12 02:04:49</td>\n",
       "    </tr>\n",
       "    <tr>\n",
       "      <th>268030</th>\n",
       "      <td>2024-04-12 05:05:34</td>\n",
       "    </tr>\n",
       "    <tr>\n",
       "      <th>263300</th>\n",
       "      <td>2024-04-11 05:21:50</td>\n",
       "    </tr>\n",
       "  </tbody>\n",
       "</table>\n",
       "</div>"
      ]
     },
     "execution_count": 13,
     "metadata": {},
     "output_type": "execute_result"
    }
   ],
   "execution_count": 13
  },
  {
   "metadata": {
    "ExecuteTime": {
     "end_time": "2024-04-12T07:58:59.949281Z",
     "start_time": "2024-04-12T07:58:59.947350Z"
    }
   },
   "cell_type": "code",
   "source": "",
   "id": "1db5fcc375463472",
   "outputs": [],
   "execution_count": 13
  }
 ],
 "metadata": {
  "kernelspec": {
   "display_name": "Python 3 (ipykernel)",
   "language": "python",
   "name": "python3"
  },
  "language_info": {
   "codemirror_mode": {
    "name": "ipython",
    "version": 3
   },
   "file_extension": ".py",
   "mimetype": "text/x-python",
   "name": "python",
   "nbconvert_exporter": "python",
   "pygments_lexer": "ipython3",
   "version": "3.9.12"
  }
 },
 "nbformat": 4,
 "nbformat_minor": 5
}
