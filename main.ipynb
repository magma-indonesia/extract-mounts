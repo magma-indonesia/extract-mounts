{
 "cells": [
  {
   "cell_type": "code",
   "id": "initial_id",
   "metadata": {
    "collapsed": true,
    "ExecuteTime": {
     "end_time": "2024-04-12T12:10:36.582425Z",
     "start_time": "2024-04-12T12:10:36.006257Z"
    }
   },
   "source": [
    "import json\n",
    "import re\n",
    "import pandas as pd\n",
    "import os\n",
    "import asyncio\n",
    "import aiohttp\n",
    "from tqdm import tqdm"
   ],
   "outputs": [],
   "execution_count": 1
  },
  {
   "metadata": {
    "ExecuteTime": {
     "end_time": "2024-04-12T12:10:36.588542Z",
     "start_time": "2024-04-12T12:10:36.583408Z"
    }
   },
   "cell_type": "code",
   "source": "print(os.getcwd())",
   "id": "3937fd6595f3096f",
   "outputs": [
    {
     "name": "stdout",
     "output_type": "stream",
     "text": [
      "D:\\Projects\\extract-mounts\n"
     ]
    }
   ],
   "execution_count": 2
  },
  {
   "metadata": {
    "ExecuteTime": {
     "end_time": "2024-04-12T12:10:36.595869Z",
     "start_time": "2024-04-12T12:10:36.588542Z"
    }
   },
   "cell_type": "code",
   "source": [
    "async def get_json_from_javascript(text: str):\n",
    "    var_graph = re.search(r\"(?:^|\\s|;)var\\s+graph\\s*=\\s*([^']+})\", text)\n",
    "    string_graph = var_graph.group(1)\n",
    "    json_graph = json.loads(string_graph)\n",
    "    return json_graph"
   ],
   "id": "a68e52dec452577e",
   "outputs": [],
   "execution_count": 3
  },
  {
   "metadata": {
    "ExecuteTime": {
     "end_time": "2024-04-12T12:10:36.599933Z",
     "start_time": "2024-04-12T12:10:36.596860Z"
    }
   },
   "cell_type": "code",
   "source": [
    "async def get_so2_values(graph_json):\n",
    "    so2_values = {\n",
    "        'Date time': graph_json['data'][2]['x'],\n",
    "        'Value': graph_json['data'][2]['y'],\n",
    "        'Graph': graph_json['data'][2]['text'],\n",
    "    }\n",
    "    so2_df = pd.DataFrame.from_dict(so2_values)\n",
    "    so2_df['Type'] = 'SO2'\n",
    "    return so2_df"
   ],
   "id": "335fbd3046eae869",
   "outputs": [],
   "execution_count": 4
  },
  {
   "metadata": {
    "ExecuteTime": {
     "end_time": "2024-04-12T12:10:36.604161Z",
     "start_time": "2024-04-12T12:10:36.600929Z"
    }
   },
   "cell_type": "code",
   "source": [
    "async def get_thermal_values(graph_json):\n",
    "    thermal_values = {\n",
    "        'Date time': graph_json['data'][0]['x'],\n",
    "        'Value': graph_json['data'][0]['y'],\n",
    "        'Graph': graph_json['data'][0]['text'],\n",
    "    }\n",
    "    thermal_df = pd.DataFrame.from_dict(thermal_values)\n",
    "    thermal_df['Type'] = 'Thermal'\n",
    "    return thermal_df"
   ],
   "id": "850f4d44c31f9a39",
   "outputs": [],
   "execution_count": 5
  },
  {
   "metadata": {
    "ExecuteTime": {
     "end_time": "2024-04-12T12:10:36.608431Z",
     "start_time": "2024-04-12T12:10:36.604161Z"
    }
   },
   "cell_type": "code",
   "source": [
    "def convert_to_date(date_time):\n",
    "    return date_time.strftime(\"%Y-%m-%d\")"
   ],
   "id": "f7f094d342c10025",
   "outputs": [],
   "execution_count": 6
  },
  {
   "metadata": {
    "ExecuteTime": {
     "end_time": "2024-04-12T12:10:36.612577Z",
     "start_time": "2024-04-12T12:10:36.609423Z"
    }
   },
   "cell_type": "code",
   "source": [
    "def convert_to_time(date_time):\n",
    "    return date_time.strftime(\"%H:%M:%S\")"
   ],
   "id": "a068a042632cec1e",
   "outputs": [],
   "execution_count": 7
  },
  {
   "metadata": {
    "ExecuteTime": {
     "end_time": "2024-04-12T12:10:36.617559Z",
     "start_time": "2024-04-12T12:10:36.613570Z"
    }
   },
   "cell_type": "code",
   "source": [
    "async def run(text: str, volcano_code: str, volcano_name: str, json_file: str, \n",
    "              filter_value: float|int = 0) -> (pd.DataFrame, str, str) :\n",
    "    \n",
    "    graph_json = await get_json_from_javascript(text)\n",
    "\n",
    "    with open(json_file, \"w\") as write_file:\n",
    "        json.dump(graph_json['data'], write_file, indent=2)\n",
    "        \n",
    "    so2 = await get_so2_values(graph_json)\n",
    "    thermal = await get_thermal_values(graph_json)\n",
    "    \n",
    "    df = pd.concat([\n",
    "        so2,\n",
    "        thermal\n",
    "    ])\n",
    "    \n",
    "    df['Date time'] = pd.to_datetime(df['Date time'])\n",
    "    df['Date'] = df['Date time'].apply(convert_to_date)\n",
    "    df['Time'] = df['Date time'].apply(convert_to_time)\n",
    "    df['Code'] = volcano_code\n",
    "    df['Volcano Name'] = volcano_name\n",
    "    df.set_index('Date time', inplace=True)\n",
    "    \n",
    "    filtered_df = df[df['Value'] > filter_value]      \n",
    "    return filtered_df, volcano_name, volcano_code"
   ],
   "id": "8ce6427aa302261c",
   "outputs": [],
   "execution_count": 8
  },
  {
   "metadata": {
    "ExecuteTime": {
     "end_time": "2024-04-12T12:10:36.622291Z",
     "start_time": "2024-04-12T12:10:36.618541Z"
    }
   },
   "cell_type": "code",
   "source": [
    "async def fetch(session, url):\n",
    "    async with session.get(url) as response:\n",
    "        assert response.status == 200\n",
    "        return await response.text()"
   ],
   "id": "f4ba440e0bd6e61",
   "outputs": [],
   "execution_count": 9
  },
  {
   "metadata": {
    "ExecuteTime": {
     "end_time": "2024-04-12T12:10:36.629745Z",
     "start_time": "2024-04-12T12:10:36.622291Z"
    }
   },
   "cell_type": "code",
   "source": [
    "async def main() -> dict[str, pd.DataFrame]:\n",
    "    print('🏃‍ Extracting....')\n",
    "    print('==================')\n",
    "    \n",
    "    mounts_url: str = 'http://mounts-project.com/timeseries/'\n",
    "    filter_value: float = 0.1\n",
    "    \n",
    "    output_directory = os.path.join(os.getcwd(), 'output')\n",
    "    os.makedirs(output_directory, exist_ok=True)\n",
    "    \n",
    "    json_dir = os.path.join(output_directory, 'json')\n",
    "    os.makedirs(json_dir, exist_ok = True)\n",
    "    \n",
    "    print(json_dir)\n",
    "    \n",
    "    volcanoes = [\n",
    "    {\n",
    "        \"name\" : \"Lewotobi Laki-laki\",\n",
    "        \"code\" : 264180,\n",
    "    },\n",
    "    {\n",
    "        \"name\" : \"Marapi\",\n",
    "        \"code\" : 261140,\n",
    "    },\n",
    "    {\n",
    "        \"name\" : \"Anak Krakatau\",\n",
    "        \"code\" : 262000,\n",
    "    },\n",
    "    {\n",
    "        \"name\" : \"Kerinci\",\n",
    "        \"code\" : 261170,\n",
    "    },\n",
    "    {\n",
    "        \"name\" : \"Karangetang\",\n",
    "        \"code\" : 267020,\n",
    "    },\n",
    "    {\n",
    "        \"name\" : \"Dukono\",\n",
    "        \"code\" : 268010,\n",
    "    },\n",
    "    {\n",
    "        \"name\" : \"Ili Lewotolok\",\n",
    "        \"code\" : 264230,\n",
    "    },\n",
    "    {\n",
    "        \"name\" : \"Ibu\",\n",
    "        \"code\" : 268030,\n",
    "    },\n",
    "    {\n",
    "        \"name\" : \"Semeru\",\n",
    "        \"code\" : 263300,\n",
    "    },\n",
    "    {\n",
    "        \"name\" : \"Raung\",\n",
    "        \"code\" : 263340,\n",
    "    },\n",
    "    {\n",
    "        \"name\" : \"Ijen\",\n",
    "        \"code\" : 263350,\n",
    "    },\n",
    "    {\n",
    "        \"name\" : \"Slamet\",\n",
    "        \"code\" : 263180\n",
    "    }\n",
    "]\n",
    "    \n",
    "    dfs: dict[str, pd.DataFrame] = {}\n",
    "    \n",
    "    async with aiohttp.ClientSession() as session:\n",
    "        tasks = set()\n",
    "        for volcano in volcanoes:\n",
    "            response_text = await fetch(session,'{}{}'.format(mounts_url, volcano['code']))\n",
    "            json_file = os.path.join(json_dir, '{}.json'.format(volcano['code']))\n",
    "            \n",
    "            task = asyncio.create_task(run(\n",
    "                text = response_text,\n",
    "                volcano_code = volcano['code'],\n",
    "                volcano_name = volcano['name'],\n",
    "                json_file = json_file,\n",
    "                filter_value = filter_value)\n",
    "            )\n",
    "            tasks.add(task)\n",
    "            \n",
    "        for t in tqdm(asyncio.as_completed(tasks), total=len(tasks)):\n",
    "            df, name, code = await t\n",
    "            dfs['{} - {}'.format(name, code)] = df\n",
    "            print('👌 {} Extracted!'.format(name))\n",
    "    \n",
    "    return dfs"
   ],
   "id": "b8e381242e85d7af",
   "outputs": [],
   "execution_count": 10
  },
  {
   "metadata": {
    "ExecuteTime": {
     "end_time": "2024-04-12T12:10:39.759164Z",
     "start_time": "2024-04-12T12:10:36.630737Z"
    }
   },
   "cell_type": "code",
   "source": "dataframes = await main()",
   "id": "5421f1a2ef1e2eb2",
   "outputs": [
    {
     "name": "stdout",
     "output_type": "stream",
     "text": [
      "🏃‍ Extracting....\n",
      "==================\n",
      "D:\\Projects\\extract-mounts\\output\\json\n"
     ]
    },
    {
     "name": "stderr",
     "output_type": "stream",
     "text": [
      "100%|██████████| 12/12 [00:00<00:00, 1560.48it/s]"
     ]
    },
    {
     "name": "stdout",
     "output_type": "stream",
     "text": [
      "👌 Kerinci Extracted!\n",
      "👌 Ibu Extracted!\n",
      "👌 Ijen Extracted!\n",
      "👌 Ili Lewotolok Extracted!\n",
      "👌 Raung Extracted!\n",
      "👌 Lewotobi Laki-laki Extracted!\n",
      "👌 Marapi Extracted!\n",
      "👌 Karangetang Extracted!\n",
      "👌 Semeru Extracted!\n",
      "👌 Dukono Extracted!\n",
      "👌 Anak Krakatau Extracted!\n",
      "👌 Slamet Extracted!\n"
     ]
    },
    {
     "name": "stderr",
     "output_type": "stream",
     "text": [
      "\n"
     ]
    }
   ],
   "execution_count": 11
  },
  {
   "metadata": {},
   "cell_type": "markdown",
   "source": "# Save to excel and CSV",
   "id": "793631f0c4845cb9"
  },
  {
   "metadata": {
    "ExecuteTime": {
     "end_time": "2024-04-12T12:10:39.764578Z",
     "start_time": "2024-04-12T12:10:39.759164Z"
    }
   },
   "cell_type": "code",
   "source": "dataframes.keys()",
   "id": "3f7161c101cec300",
   "outputs": [
    {
     "data": {
      "text/plain": [
       "dict_keys(['Kerinci - 261170', 'Ibu - 268030', 'Ijen - 263350', 'Ili Lewotolok - 264230', 'Raung - 263340', 'Lewotobi Laki-laki - 264180', 'Marapi - 261140', 'Karangetang - 267020', 'Semeru - 263300', 'Dukono - 268010', 'Anak Krakatau - 262000', 'Slamet - 263180'])"
      ]
     },
     "execution_count": 12,
     "metadata": {},
     "output_type": "execute_result"
    }
   ],
   "execution_count": 12
  },
  {
   "metadata": {
    "ExecuteTime": {
     "end_time": "2024-04-12T12:10:39.769654Z",
     "start_time": "2024-04-12T12:10:39.764578Z"
    }
   },
   "cell_type": "code",
   "source": [
    "async def export_to_excel(excel_directory: str, csv_directory: str, \n",
    "                          df: pd.DataFrame, filename: str) -> (str, str, str, any):\n",
    "    path_excel = os.path.join(excel_directory, '{}.xlsx'.format(filename))\n",
    "    path_csv = os.path.join(csv_directory, '{}.csv'.format(filename))\n",
    "    df.to_csv(path_csv)\n",
    "    df.to_excel(path_excel, sheet_name='Join Data')\n",
    "    return filename, path_excel, path_csv, df.index.max()"
   ],
   "id": "b2fb79219f3cdb45",
   "outputs": [],
   "execution_count": 13
  },
  {
   "metadata": {
    "ExecuteTime": {
     "end_time": "2024-04-12T12:10:39.776955Z",
     "start_time": "2024-04-12T12:10:39.770637Z"
    }
   },
   "cell_type": "code",
   "source": [
    "async def save(dfs: dict[str, pd.DataFrame], concated_dfs: list[pd.DataFrame] = None, \n",
    "               df_csv: pd.DataFrame = None):\n",
    "    if concated_dfs is None:\n",
    "        concated_dfs: list[pd.DataFrame] = []\n",
    "        \n",
    "    if df_csv is None:\n",
    "        df_csv = pd.DataFrame()\n",
    "    \n",
    "    output_directory = os.path.join(os.getcwd(), 'output')\n",
    "    \n",
    "    excel_directory = os.path.join(output_directory, 'excel')\n",
    "    os.makedirs(excel_directory, exist_ok=True)\n",
    "    \n",
    "    csv_directory = os.path.join(output_directory, 'csv')\n",
    "    os.makedirs(csv_directory, exist_ok=True)\n",
    "    \n",
    "    tasks = set()\n",
    "    for filename, df in dfs.items():\n",
    "        concated_dfs.append(df)\n",
    "        \n",
    "        task = asyncio.create_task(export_to_excel(\n",
    "                excel_directory = excel_directory,\n",
    "                csv_directory =  csv_directory,\n",
    "                filename = filename,\n",
    "                df = df)\n",
    "        )\n",
    "        tasks.add(task)\n",
    "        \n",
    "    for t in tqdm(asyncio.as_completed(tasks), total=len(tasks)):\n",
    "        filename, excel_file, csv_file, last_update = await t\n",
    "        print('💾 {} saved to: {}'.format(filename, excel_file))\n",
    "        \n",
    "        df_csv = pd.concat([\n",
    "            df_csv, pd.DataFrame([\n",
    "                {\n",
    "                    \"code\" : filename.split(' - ')[1],\n",
    "                    \"volcano_name\" : filename.split(' - ')[0],\n",
    "                    \"filename\" : excel_file,\n",
    "                    \"csv\": csv_file,\n",
    "                    \"updated_at\" : last_update\n",
    "                }]\n",
    "        )], ignore_index=True)\n",
    "    \n",
    "    all_volcano_excel = os.path.join(excel_directory, 'All Volcano.xlsx')\n",
    "    merged = pd.concat(concated_dfs)\n",
    "    merged.to_excel(all_volcano_excel, sheet_name='Join Data')\n",
    "    print('💾 All Volcano saved into: {}'.format(all_volcano_excel))\n",
    "    \n",
    "    df_csv.to_csv('output.csv', index=False)"
   ],
   "id": "6ad62227debfe317",
   "outputs": [],
   "execution_count": 14
  },
  {
   "metadata": {
    "ExecuteTime": {
     "end_time": "2024-04-12T12:10:41.765806Z",
     "start_time": "2024-04-12T12:10:39.777938Z"
    }
   },
   "cell_type": "code",
   "source": "saved = await save(dataframes)",
   "id": "5b62c96e6bb9c53f",
   "outputs": [
    {
     "name": "stderr",
     "output_type": "stream",
     "text": [
      "100%|██████████| 12/12 [00:01<00:00, 11.01it/s]"
     ]
    },
    {
     "name": "stdout",
     "output_type": "stream",
     "text": [
      "💾 Kerinci - 261170 saved to: D:\\Projects\\extract-mounts\\output\\excel\\Kerinci - 261170.xlsx\n",
      "💾 Ibu - 268030 saved to: D:\\Projects\\extract-mounts\\output\\excel\\Ibu - 268030.xlsx\n",
      "💾 Ijen - 263350 saved to: D:\\Projects\\extract-mounts\\output\\excel\\Ijen - 263350.xlsx\n",
      "💾 Ili Lewotolok - 264230 saved to: D:\\Projects\\extract-mounts\\output\\excel\\Ili Lewotolok - 264230.xlsx\n",
      "💾 Raung - 263340 saved to: D:\\Projects\\extract-mounts\\output\\excel\\Raung - 263340.xlsx\n",
      "💾 Lewotobi Laki-laki - 264180 saved to: D:\\Projects\\extract-mounts\\output\\excel\\Lewotobi Laki-laki - 264180.xlsx\n",
      "💾 Marapi - 261140 saved to: D:\\Projects\\extract-mounts\\output\\excel\\Marapi - 261140.xlsx\n",
      "💾 Karangetang - 267020 saved to: D:\\Projects\\extract-mounts\\output\\excel\\Karangetang - 267020.xlsx\n",
      "💾 Semeru - 263300 saved to: D:\\Projects\\extract-mounts\\output\\excel\\Semeru - 263300.xlsx\n",
      "💾 Dukono - 268010 saved to: D:\\Projects\\extract-mounts\\output\\excel\\Dukono - 268010.xlsx\n",
      "💾 Anak Krakatau - 262000 saved to: D:\\Projects\\extract-mounts\\output\\excel\\Anak Krakatau - 262000.xlsx\n",
      "💾 Slamet - 263180 saved to: D:\\Projects\\extract-mounts\\output\\excel\\Slamet - 263180.xlsx\n"
     ]
    },
    {
     "name": "stderr",
     "output_type": "stream",
     "text": [
      "\n"
     ]
    },
    {
     "name": "stdout",
     "output_type": "stream",
     "text": [
      "💾 All Volcano saved into: D:\\Projects\\extract-mounts\\output\\excel\\All Volcano.xlsx\n"
     ]
    }
   ],
   "execution_count": 15
  }
 ],
 "metadata": {
  "kernelspec": {
   "display_name": "Python 3",
   "language": "python",
   "name": "python3"
  },
  "language_info": {
   "codemirror_mode": {
    "name": "ipython",
    "version": 2
   },
   "file_extension": ".py",
   "mimetype": "text/x-python",
   "name": "python",
   "nbconvert_exporter": "python",
   "pygments_lexer": "ipython2",
   "version": "2.7.6"
  }
 },
 "nbformat": 4,
 "nbformat_minor": 5
}
